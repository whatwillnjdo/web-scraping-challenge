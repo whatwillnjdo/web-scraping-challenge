{
 "cells": [
  {
   "cell_type": "code",
   "execution_count": 19,
   "metadata": {},
   "outputs": [],
   "source": [
    "# Dependencies\n",
    "from splinter import Browser\n",
    "from bs4 import BeautifulSoup\n",
    "import requests\n",
    "import time"
   ]
  },
  {
   "cell_type": "code",
   "execution_count": 20,
   "metadata": {},
   "outputs": [],
   "source": [
    "# URL of page to be scraped\n",
    "url = 'https://mars.nasa.gov/news'"
   ]
  },
  {
   "cell_type": "code",
   "execution_count": 21,
   "metadata": {},
   "outputs": [],
   "source": [
    "# Retrieve page with the requests module\n",
    "response = requests.get(url)"
   ]
  },
  {
   "cell_type": "code",
   "execution_count": 22,
   "metadata": {},
   "outputs": [],
   "source": [
    "# Create BeautifulSoup object; parse with 'lxml'\n",
    "soup = BeautifulSoup(response.text, 'lxml')"
   ]
  },
  {
   "cell_type": "code",
   "execution_count": 23,
   "metadata": {},
   "outputs": [
    {
     "name": "stdout",
     "output_type": "stream",
     "text": [
      "\n",
      "\n",
      "NASA Prepares for Moon and Mars With New Addition to Its Deep Space Network\n",
      "\n",
      "\n"
     ]
    }
   ],
   "source": [
    "# The article header\n",
    "news_title = soup.find('div', class_=\"content_title\").text\n",
    "print(news_title)"
   ]
  },
  {
   "cell_type": "code",
   "execution_count": 24,
   "metadata": {},
   "outputs": [
    {
     "name": "stdout",
     "output_type": "stream",
     "text": [
      "\n",
      "Robotic spacecraft will be able to communicate with the dish using radio waves and lasers.\n",
      "\n"
     ]
    }
   ],
   "source": [
    "news_synopsis = soup.find('div', class_='rollover_description_inner')\n",
    "print(news_synopsis.text)"
   ]
  },
  {
   "cell_type": "code",
   "execution_count": 25,
   "metadata": {},
   "outputs": [],
   "source": [
    "#for row in soup.find_all('div',attrs={\"class\" : \"article_teaser_body\"}):\n",
    "#    print(row)"
   ]
  },
  {
   "cell_type": "code",
   "execution_count": 26,
   "metadata": {},
   "outputs": [],
   "source": [
    "#Groundwork for splinter\n",
    "executable_path = {'executable_path': '/usr/local/bin/chromedriver'}\n",
    "browser = Browser('chrome', **executable_path, headless=False)"
   ]
  },
  {
   "cell_type": "code",
   "execution_count": 27,
   "metadata": {},
   "outputs": [],
   "source": [
    "pic_url = 'https://www.jpl.nasa.gov/spaceimages/?search=&category=Mars'\n",
    "browser.visit(pic_url)"
   ]
  },
  {
   "cell_type": "code",
   "execution_count": 28,
   "metadata": {},
   "outputs": [],
   "source": [
    "html = browser.html\n",
    "pic_soup = BeautifulSoup(html, 'html.parser')\n",
    "\n",
    "picture = pic_soup.find('article').find('a').get('data-fancybox-href')"
   ]
  },
  {
   "cell_type": "code",
   "execution_count": 29,
   "metadata": {},
   "outputs": [
    {
     "name": "stdout",
     "output_type": "stream",
     "text": [
      "/spaceimages/images/mediumsize/PIA18840_ip.jpg\n"
     ]
    }
   ],
   "source": [
    "print(picture)"
   ]
  },
  {
   "cell_type": "code",
   "execution_count": 30,
   "metadata": {},
   "outputs": [
    {
     "data": {
      "text/plain": [
       "'https://www.jpl.nasa.gov/spaceimages/'"
      ]
     },
     "execution_count": 30,
     "metadata": {},
     "output_type": "execute_result"
    }
   ],
   "source": [
    "modified_url = pic_url.split('?')[0]\n",
    "modified_url"
   ]
  },
  {
   "cell_type": "code",
   "execution_count": 31,
   "metadata": {},
   "outputs": [
    {
     "data": {
      "text/plain": [
       "'https://www.jpl.nasa.gov/spaceimages/images/mediumsize/PIA18840_ip.jpg'"
      ]
     },
     "execution_count": 31,
     "metadata": {},
     "output_type": "execute_result"
    }
   ],
   "source": [
    "modified_picture = picture.split('/')[2]+\"/\"+picture.split('/')[3]+\"/\"+picture.split('/')[4]\n",
    "new_url = modified_url + modified_picture\n",
    "new_url"
   ]
  },
  {
   "cell_type": "code",
   "execution_count": 34,
   "metadata": {},
   "outputs": [],
   "source": [
    "# Twitter URL of weather to be scraped\n",
    "twitter_url = 'https://twitter.com/marswxreport?lang=en'\n",
    "# Retrieve page with the requests module\n",
    "response = requests.get(twitter_url)\n",
    "time.sleep(1)\n",
    "# Create BeautifulSoup object; parse with 'lxml'\n",
    "twitter_soup = BeautifulSoup(response.text, 'html.parser')\n",
    "timeline = twitter_soup.select('#timeline li.stream-item')"
   ]
  },
  {
   "cell_type": "code",
   "execution_count": null,
   "metadata": {},
   "outputs": [],
   "source": [
    "print(timeline)"
   ]
  },
  {
   "cell_type": "code",
   "execution_count": 45,
   "metadata": {},
   "outputs": [
    {
     "name": "stdout",
     "output_type": "stream",
     "text": [
      "[{'text': 'InSight sol 443 (2020-02-24) low -94.8ºC (-138.6ºF) high -12.3ºC (9.8ºF)\\nwinds from the SSE at 7.0 m/s (15.6 mph) gusting to 22.2 m/s (49.6 mph)\\npressure at 6.30 hPapic.twitter.com/aaRx6POMFO'}]\n",
      "[{'text': 'InSight sol 443 (2020-02-24) low -94.8ºC (-138.6ºF) high -12.3ºC (9.8ºF)\\nwinds from the SSE at 7.0 m/s (15.6 mph) gusting to 22.2 m/s (49.6 mph)\\npressure at 6.30 hPapic.twitter.com/aaRx6POMFO'}, {'text': 'InSight sol 442 (2020-02-23) low -94.1ºC (-137.3ºF) high -10.5ºC (13.0ºF)\\nwinds from the SSE at 6.2 m/s (13.8 mph) gusting to 21.1 m/s (47.3 mph)\\npressure at 6.30 hPapic.twitter.com/lfdFlvxVxe'}]\n",
      "[{'text': 'InSight sol 443 (2020-02-24) low -94.8ºC (-138.6ºF) high -12.3ºC (9.8ºF)\\nwinds from the SSE at 7.0 m/s (15.6 mph) gusting to 22.2 m/s (49.6 mph)\\npressure at 6.30 hPapic.twitter.com/aaRx6POMFO'}, {'text': 'InSight sol 442 (2020-02-23) low -94.1ºC (-137.3ºF) high -10.5ºC (13.0ºF)\\nwinds from the SSE at 6.2 m/s (13.8 mph) gusting to 21.1 m/s (47.3 mph)\\npressure at 6.30 hPapic.twitter.com/lfdFlvxVxe'}, {'text': 'InSight sol 441 (2020-02-22) low -95.1ºC (-139.1ºF) high -13.5ºC (7.7ºF)\\nwinds from the SSE at 6.2 m/s (13.8 mph) gusting to 21.0 m/s (47.0 mph)\\npressure at 6.30 hPapic.twitter.com/ztf0TqK14M'}]\n",
      "[{'text': 'InSight sol 443 (2020-02-24) low -94.8ºC (-138.6ºF) high -12.3ºC (9.8ºF)\\nwinds from the SSE at 7.0 m/s (15.6 mph) gusting to 22.2 m/s (49.6 mph)\\npressure at 6.30 hPapic.twitter.com/aaRx6POMFO'}, {'text': 'InSight sol 442 (2020-02-23) low -94.1ºC (-137.3ºF) high -10.5ºC (13.0ºF)\\nwinds from the SSE at 6.2 m/s (13.8 mph) gusting to 21.1 m/s (47.3 mph)\\npressure at 6.30 hPapic.twitter.com/lfdFlvxVxe'}, {'text': 'InSight sol 441 (2020-02-22) low -95.1ºC (-139.1ºF) high -13.5ºC (7.7ºF)\\nwinds from the SSE at 6.2 m/s (13.8 mph) gusting to 21.0 m/s (47.0 mph)\\npressure at 6.30 hPapic.twitter.com/ztf0TqK14M'}, {'text': 'InSight sol 440 (2020-02-21) low -95.2ºC (-139.3ºF) high -13.0ºC (8.6ºF)\\nwinds from the W at 6.0 m/s (13.4 mph) gusting to 23.7 m/s (52.9 mph)\\npressure at 6.30 hPapic.twitter.com/5uoXVigK0E'}]\n",
      "[{'text': 'InSight sol 443 (2020-02-24) low -94.8ºC (-138.6ºF) high -12.3ºC (9.8ºF)\\nwinds from the SSE at 7.0 m/s (15.6 mph) gusting to 22.2 m/s (49.6 mph)\\npressure at 6.30 hPapic.twitter.com/aaRx6POMFO'}, {'text': 'InSight sol 442 (2020-02-23) low -94.1ºC (-137.3ºF) high -10.5ºC (13.0ºF)\\nwinds from the SSE at 6.2 m/s (13.8 mph) gusting to 21.1 m/s (47.3 mph)\\npressure at 6.30 hPapic.twitter.com/lfdFlvxVxe'}, {'text': 'InSight sol 441 (2020-02-22) low -95.1ºC (-139.1ºF) high -13.5ºC (7.7ºF)\\nwinds from the SSE at 6.2 m/s (13.8 mph) gusting to 21.0 m/s (47.0 mph)\\npressure at 6.30 hPapic.twitter.com/ztf0TqK14M'}, {'text': 'InSight sol 440 (2020-02-21) low -95.2ºC (-139.3ºF) high -13.0ºC (8.6ºF)\\nwinds from the W at 6.0 m/s (13.4 mph) gusting to 23.7 m/s (52.9 mph)\\npressure at 6.30 hPapic.twitter.com/5uoXVigK0E'}, {'text': 'InSight sol 439 (2020-02-20) low -94.7ºC (-138.4ºF) high -9.3ºC (15.2ºF)\\nwinds from the SSE at 6.5 m/s (14.6 mph) gusting to 23.2 m/s (51.9 mph)\\npressure at 6.30 hPapic.twitter.com/VRiv3fQH9p'}]\n",
      "[{'text': 'InSight sol 443 (2020-02-24) low -94.8ºC (-138.6ºF) high -12.3ºC (9.8ºF)\\nwinds from the SSE at 7.0 m/s (15.6 mph) gusting to 22.2 m/s (49.6 mph)\\npressure at 6.30 hPapic.twitter.com/aaRx6POMFO'}, {'text': 'InSight sol 442 (2020-02-23) low -94.1ºC (-137.3ºF) high -10.5ºC (13.0ºF)\\nwinds from the SSE at 6.2 m/s (13.8 mph) gusting to 21.1 m/s (47.3 mph)\\npressure at 6.30 hPapic.twitter.com/lfdFlvxVxe'}, {'text': 'InSight sol 441 (2020-02-22) low -95.1ºC (-139.1ºF) high -13.5ºC (7.7ºF)\\nwinds from the SSE at 6.2 m/s (13.8 mph) gusting to 21.0 m/s (47.0 mph)\\npressure at 6.30 hPapic.twitter.com/ztf0TqK14M'}, {'text': 'InSight sol 440 (2020-02-21) low -95.2ºC (-139.3ºF) high -13.0ºC (8.6ºF)\\nwinds from the W at 6.0 m/s (13.4 mph) gusting to 23.7 m/s (52.9 mph)\\npressure at 6.30 hPapic.twitter.com/5uoXVigK0E'}, {'text': 'InSight sol 439 (2020-02-20) low -94.7ºC (-138.4ºF) high -9.3ºC (15.2ºF)\\nwinds from the SSE at 6.5 m/s (14.6 mph) gusting to 23.2 m/s (51.9 mph)\\npressure at 6.30 hPapic.twitter.com/VRiv3fQH9p'}, {'text': 'InSight sol 438 (2020-02-19) low -95.4ºC (-139.7ºF) high -10.0ºC (13.9ºF)\\nwinds from the SSE at 5.9 m/s (13.3 mph) gusting to 22.1 m/s (49.3 mph)\\npressure at 6.30 hPapic.twitter.com/dFu1S5EhpH'}]\n",
      "[{'text': 'InSight sol 443 (2020-02-24) low -94.8ºC (-138.6ºF) high -12.3ºC (9.8ºF)\\nwinds from the SSE at 7.0 m/s (15.6 mph) gusting to 22.2 m/s (49.6 mph)\\npressure at 6.30 hPapic.twitter.com/aaRx6POMFO'}, {'text': 'InSight sol 442 (2020-02-23) low -94.1ºC (-137.3ºF) high -10.5ºC (13.0ºF)\\nwinds from the SSE at 6.2 m/s (13.8 mph) gusting to 21.1 m/s (47.3 mph)\\npressure at 6.30 hPapic.twitter.com/lfdFlvxVxe'}, {'text': 'InSight sol 441 (2020-02-22) low -95.1ºC (-139.1ºF) high -13.5ºC (7.7ºF)\\nwinds from the SSE at 6.2 m/s (13.8 mph) gusting to 21.0 m/s (47.0 mph)\\npressure at 6.30 hPapic.twitter.com/ztf0TqK14M'}, {'text': 'InSight sol 440 (2020-02-21) low -95.2ºC (-139.3ºF) high -13.0ºC (8.6ºF)\\nwinds from the W at 6.0 m/s (13.4 mph) gusting to 23.7 m/s (52.9 mph)\\npressure at 6.30 hPapic.twitter.com/5uoXVigK0E'}, {'text': 'InSight sol 439 (2020-02-20) low -94.7ºC (-138.4ºF) high -9.3ºC (15.2ºF)\\nwinds from the SSE at 6.5 m/s (14.6 mph) gusting to 23.2 m/s (51.9 mph)\\npressure at 6.30 hPapic.twitter.com/VRiv3fQH9p'}, {'text': 'InSight sol 438 (2020-02-19) low -95.4ºC (-139.7ºF) high -10.0ºC (13.9ºF)\\nwinds from the SSE at 5.9 m/s (13.3 mph) gusting to 22.1 m/s (49.3 mph)\\npressure at 6.30 hPapic.twitter.com/dFu1S5EhpH'}, {'text': 'InSight sol 437 (2020-02-18) low -94.7ºC (-138.5ºF) high -9.9ºC (14.1ºF)\\nwinds from the SSE at 6.2 m/s (13.8 mph) gusting to 21.6 m/s (48.3 mph)\\npressure at 6.30 hPapic.twitter.com/SLsDLVefeh'}]\n",
      "[{'text': 'InSight sol 443 (2020-02-24) low -94.8ºC (-138.6ºF) high -12.3ºC (9.8ºF)\\nwinds from the SSE at 7.0 m/s (15.6 mph) gusting to 22.2 m/s (49.6 mph)\\npressure at 6.30 hPapic.twitter.com/aaRx6POMFO'}, {'text': 'InSight sol 442 (2020-02-23) low -94.1ºC (-137.3ºF) high -10.5ºC (13.0ºF)\\nwinds from the SSE at 6.2 m/s (13.8 mph) gusting to 21.1 m/s (47.3 mph)\\npressure at 6.30 hPapic.twitter.com/lfdFlvxVxe'}, {'text': 'InSight sol 441 (2020-02-22) low -95.1ºC (-139.1ºF) high -13.5ºC (7.7ºF)\\nwinds from the SSE at 6.2 m/s (13.8 mph) gusting to 21.0 m/s (47.0 mph)\\npressure at 6.30 hPapic.twitter.com/ztf0TqK14M'}, {'text': 'InSight sol 440 (2020-02-21) low -95.2ºC (-139.3ºF) high -13.0ºC (8.6ºF)\\nwinds from the W at 6.0 m/s (13.4 mph) gusting to 23.7 m/s (52.9 mph)\\npressure at 6.30 hPapic.twitter.com/5uoXVigK0E'}, {'text': 'InSight sol 439 (2020-02-20) low -94.7ºC (-138.4ºF) high -9.3ºC (15.2ºF)\\nwinds from the SSE at 6.5 m/s (14.6 mph) gusting to 23.2 m/s (51.9 mph)\\npressure at 6.30 hPapic.twitter.com/VRiv3fQH9p'}, {'text': 'InSight sol 438 (2020-02-19) low -95.4ºC (-139.7ºF) high -10.0ºC (13.9ºF)\\nwinds from the SSE at 5.9 m/s (13.3 mph) gusting to 22.1 m/s (49.3 mph)\\npressure at 6.30 hPapic.twitter.com/dFu1S5EhpH'}, {'text': 'InSight sol 437 (2020-02-18) low -94.7ºC (-138.5ºF) high -9.9ºC (14.1ºF)\\nwinds from the SSE at 6.2 m/s (13.8 mph) gusting to 21.6 m/s (48.3 mph)\\npressure at 6.30 hPapic.twitter.com/SLsDLVefeh'}, {'text': 'InSight sol 436 (2020-02-17) low -94.4ºC (-137.9ºF) high -11.4ºC (11.4ºF)\\nwinds from the SSE at 6.3 m/s (14.1 mph) gusting to 21.5 m/s (48.1 mph)\\npressure at 6.30 hPa'}]\n",
      "[{'text': 'InSight sol 443 (2020-02-24) low -94.8ºC (-138.6ºF) high -12.3ºC (9.8ºF)\\nwinds from the SSE at 7.0 m/s (15.6 mph) gusting to 22.2 m/s (49.6 mph)\\npressure at 6.30 hPapic.twitter.com/aaRx6POMFO'}, {'text': 'InSight sol 442 (2020-02-23) low -94.1ºC (-137.3ºF) high -10.5ºC (13.0ºF)\\nwinds from the SSE at 6.2 m/s (13.8 mph) gusting to 21.1 m/s (47.3 mph)\\npressure at 6.30 hPapic.twitter.com/lfdFlvxVxe'}, {'text': 'InSight sol 441 (2020-02-22) low -95.1ºC (-139.1ºF) high -13.5ºC (7.7ºF)\\nwinds from the SSE at 6.2 m/s (13.8 mph) gusting to 21.0 m/s (47.0 mph)\\npressure at 6.30 hPapic.twitter.com/ztf0TqK14M'}, {'text': 'InSight sol 440 (2020-02-21) low -95.2ºC (-139.3ºF) high -13.0ºC (8.6ºF)\\nwinds from the W at 6.0 m/s (13.4 mph) gusting to 23.7 m/s (52.9 mph)\\npressure at 6.30 hPapic.twitter.com/5uoXVigK0E'}, {'text': 'InSight sol 439 (2020-02-20) low -94.7ºC (-138.4ºF) high -9.3ºC (15.2ºF)\\nwinds from the SSE at 6.5 m/s (14.6 mph) gusting to 23.2 m/s (51.9 mph)\\npressure at 6.30 hPapic.twitter.com/VRiv3fQH9p'}, {'text': 'InSight sol 438 (2020-02-19) low -95.4ºC (-139.7ºF) high -10.0ºC (13.9ºF)\\nwinds from the SSE at 5.9 m/s (13.3 mph) gusting to 22.1 m/s (49.3 mph)\\npressure at 6.30 hPapic.twitter.com/dFu1S5EhpH'}, {'text': 'InSight sol 437 (2020-02-18) low -94.7ºC (-138.5ºF) high -9.9ºC (14.1ºF)\\nwinds from the SSE at 6.2 m/s (13.8 mph) gusting to 21.6 m/s (48.3 mph)\\npressure at 6.30 hPapic.twitter.com/SLsDLVefeh'}, {'text': 'InSight sol 436 (2020-02-17) low -94.4ºC (-137.9ºF) high -11.4ºC (11.4ºF)\\nwinds from the SSE at 6.3 m/s (14.1 mph) gusting to 21.5 m/s (48.1 mph)\\npressure at 6.30 hPa'}, {'text': \"What I particularly love about these backlit images of #Pluto:\\n\\nSee the bumpy irregular surface on the right side of this photo of Pluto's limb?\\n\\nThey're its friggin' *ice mountains* https://twitter.com/ThePlanetaryGuy/status/1229810782394703872\\xa0…pic.twitter.com/jAHMeDcxWU\"}]\n",
      "[{'text': 'InSight sol 443 (2020-02-24) low -94.8ºC (-138.6ºF) high -12.3ºC (9.8ºF)\\nwinds from the SSE at 7.0 m/s (15.6 mph) gusting to 22.2 m/s (49.6 mph)\\npressure at 6.30 hPapic.twitter.com/aaRx6POMFO'}, {'text': 'InSight sol 442 (2020-02-23) low -94.1ºC (-137.3ºF) high -10.5ºC (13.0ºF)\\nwinds from the SSE at 6.2 m/s (13.8 mph) gusting to 21.1 m/s (47.3 mph)\\npressure at 6.30 hPapic.twitter.com/lfdFlvxVxe'}, {'text': 'InSight sol 441 (2020-02-22) low -95.1ºC (-139.1ºF) high -13.5ºC (7.7ºF)\\nwinds from the SSE at 6.2 m/s (13.8 mph) gusting to 21.0 m/s (47.0 mph)\\npressure at 6.30 hPapic.twitter.com/ztf0TqK14M'}, {'text': 'InSight sol 440 (2020-02-21) low -95.2ºC (-139.3ºF) high -13.0ºC (8.6ºF)\\nwinds from the W at 6.0 m/s (13.4 mph) gusting to 23.7 m/s (52.9 mph)\\npressure at 6.30 hPapic.twitter.com/5uoXVigK0E'}, {'text': 'InSight sol 439 (2020-02-20) low -94.7ºC (-138.4ºF) high -9.3ºC (15.2ºF)\\nwinds from the SSE at 6.5 m/s (14.6 mph) gusting to 23.2 m/s (51.9 mph)\\npressure at 6.30 hPapic.twitter.com/VRiv3fQH9p'}, {'text': 'InSight sol 438 (2020-02-19) low -95.4ºC (-139.7ºF) high -10.0ºC (13.9ºF)\\nwinds from the SSE at 5.9 m/s (13.3 mph) gusting to 22.1 m/s (49.3 mph)\\npressure at 6.30 hPapic.twitter.com/dFu1S5EhpH'}, {'text': 'InSight sol 437 (2020-02-18) low -94.7ºC (-138.5ºF) high -9.9ºC (14.1ºF)\\nwinds from the SSE at 6.2 m/s (13.8 mph) gusting to 21.6 m/s (48.3 mph)\\npressure at 6.30 hPapic.twitter.com/SLsDLVefeh'}, {'text': 'InSight sol 436 (2020-02-17) low -94.4ºC (-137.9ºF) high -11.4ºC (11.4ºF)\\nwinds from the SSE at 6.3 m/s (14.1 mph) gusting to 21.5 m/s (48.1 mph)\\npressure at 6.30 hPa'}, {'text': \"What I particularly love about these backlit images of #Pluto:\\n\\nSee the bumpy irregular surface on the right side of this photo of Pluto's limb?\\n\\nThey're its friggin' *ice mountains* https://twitter.com/ThePlanetaryGuy/status/1229810782394703872\\xa0…pic.twitter.com/jAHMeDcxWU\"}, {'text': 'InSight sol 435 (2020-02-16) low -93.8ºC (-136.9ºF) high -10.2ºC (13.7ºF)\\nwinds from the SSE at 7.4 m/s (16.5 mph) gusting to 23.0 m/s (51.5 mph)\\npressure at 6.30 hPapic.twitter.com/jPxselhyBR'}]\n",
      "[{'text': 'InSight sol 443 (2020-02-24) low -94.8ºC (-138.6ºF) high -12.3ºC (9.8ºF)\\nwinds from the SSE at 7.0 m/s (15.6 mph) gusting to 22.2 m/s (49.6 mph)\\npressure at 6.30 hPapic.twitter.com/aaRx6POMFO'}, {'text': 'InSight sol 442 (2020-02-23) low -94.1ºC (-137.3ºF) high -10.5ºC (13.0ºF)\\nwinds from the SSE at 6.2 m/s (13.8 mph) gusting to 21.1 m/s (47.3 mph)\\npressure at 6.30 hPapic.twitter.com/lfdFlvxVxe'}, {'text': 'InSight sol 441 (2020-02-22) low -95.1ºC (-139.1ºF) high -13.5ºC (7.7ºF)\\nwinds from the SSE at 6.2 m/s (13.8 mph) gusting to 21.0 m/s (47.0 mph)\\npressure at 6.30 hPapic.twitter.com/ztf0TqK14M'}, {'text': 'InSight sol 440 (2020-02-21) low -95.2ºC (-139.3ºF) high -13.0ºC (8.6ºF)\\nwinds from the W at 6.0 m/s (13.4 mph) gusting to 23.7 m/s (52.9 mph)\\npressure at 6.30 hPapic.twitter.com/5uoXVigK0E'}, {'text': 'InSight sol 439 (2020-02-20) low -94.7ºC (-138.4ºF) high -9.3ºC (15.2ºF)\\nwinds from the SSE at 6.5 m/s (14.6 mph) gusting to 23.2 m/s (51.9 mph)\\npressure at 6.30 hPapic.twitter.com/VRiv3fQH9p'}, {'text': 'InSight sol 438 (2020-02-19) low -95.4ºC (-139.7ºF) high -10.0ºC (13.9ºF)\\nwinds from the SSE at 5.9 m/s (13.3 mph) gusting to 22.1 m/s (49.3 mph)\\npressure at 6.30 hPapic.twitter.com/dFu1S5EhpH'}, {'text': 'InSight sol 437 (2020-02-18) low -94.7ºC (-138.5ºF) high -9.9ºC (14.1ºF)\\nwinds from the SSE at 6.2 m/s (13.8 mph) gusting to 21.6 m/s (48.3 mph)\\npressure at 6.30 hPapic.twitter.com/SLsDLVefeh'}, {'text': 'InSight sol 436 (2020-02-17) low -94.4ºC (-137.9ºF) high -11.4ºC (11.4ºF)\\nwinds from the SSE at 6.3 m/s (14.1 mph) gusting to 21.5 m/s (48.1 mph)\\npressure at 6.30 hPa'}, {'text': \"What I particularly love about these backlit images of #Pluto:\\n\\nSee the bumpy irregular surface on the right side of this photo of Pluto's limb?\\n\\nThey're its friggin' *ice mountains* https://twitter.com/ThePlanetaryGuy/status/1229810782394703872\\xa0…pic.twitter.com/jAHMeDcxWU\"}, {'text': 'InSight sol 435 (2020-02-16) low -93.8ºC (-136.9ºF) high -10.2ºC (13.7ºF)\\nwinds from the SSE at 7.4 m/s (16.5 mph) gusting to 23.0 m/s (51.5 mph)\\npressure at 6.30 hPapic.twitter.com/jPxselhyBR'}, {'text': 'InSight sol 434 (2020-02-15) low -94.5ºC (-138.2ºF) high -7.3ºC (18.8ºF)\\nwinds from the SSE at 7.3 m/s (16.4 mph) gusting to 22.0 m/s (49.2 mph)\\npressure at 6.30 hPapic.twitter.com/NBfGRaZjqg'}]\n",
      "[{'text': 'InSight sol 443 (2020-02-24) low -94.8ºC (-138.6ºF) high -12.3ºC (9.8ºF)\\nwinds from the SSE at 7.0 m/s (15.6 mph) gusting to 22.2 m/s (49.6 mph)\\npressure at 6.30 hPapic.twitter.com/aaRx6POMFO'}, {'text': 'InSight sol 442 (2020-02-23) low -94.1ºC (-137.3ºF) high -10.5ºC (13.0ºF)\\nwinds from the SSE at 6.2 m/s (13.8 mph) gusting to 21.1 m/s (47.3 mph)\\npressure at 6.30 hPapic.twitter.com/lfdFlvxVxe'}, {'text': 'InSight sol 441 (2020-02-22) low -95.1ºC (-139.1ºF) high -13.5ºC (7.7ºF)\\nwinds from the SSE at 6.2 m/s (13.8 mph) gusting to 21.0 m/s (47.0 mph)\\npressure at 6.30 hPapic.twitter.com/ztf0TqK14M'}, {'text': 'InSight sol 440 (2020-02-21) low -95.2ºC (-139.3ºF) high -13.0ºC (8.6ºF)\\nwinds from the W at 6.0 m/s (13.4 mph) gusting to 23.7 m/s (52.9 mph)\\npressure at 6.30 hPapic.twitter.com/5uoXVigK0E'}, {'text': 'InSight sol 439 (2020-02-20) low -94.7ºC (-138.4ºF) high -9.3ºC (15.2ºF)\\nwinds from the SSE at 6.5 m/s (14.6 mph) gusting to 23.2 m/s (51.9 mph)\\npressure at 6.30 hPapic.twitter.com/VRiv3fQH9p'}, {'text': 'InSight sol 438 (2020-02-19) low -95.4ºC (-139.7ºF) high -10.0ºC (13.9ºF)\\nwinds from the SSE at 5.9 m/s (13.3 mph) gusting to 22.1 m/s (49.3 mph)\\npressure at 6.30 hPapic.twitter.com/dFu1S5EhpH'}, {'text': 'InSight sol 437 (2020-02-18) low -94.7ºC (-138.5ºF) high -9.9ºC (14.1ºF)\\nwinds from the SSE at 6.2 m/s (13.8 mph) gusting to 21.6 m/s (48.3 mph)\\npressure at 6.30 hPapic.twitter.com/SLsDLVefeh'}, {'text': 'InSight sol 436 (2020-02-17) low -94.4ºC (-137.9ºF) high -11.4ºC (11.4ºF)\\nwinds from the SSE at 6.3 m/s (14.1 mph) gusting to 21.5 m/s (48.1 mph)\\npressure at 6.30 hPa'}, {'text': \"What I particularly love about these backlit images of #Pluto:\\n\\nSee the bumpy irregular surface on the right side of this photo of Pluto's limb?\\n\\nThey're its friggin' *ice mountains* https://twitter.com/ThePlanetaryGuy/status/1229810782394703872\\xa0…pic.twitter.com/jAHMeDcxWU\"}, {'text': 'InSight sol 435 (2020-02-16) low -93.8ºC (-136.9ºF) high -10.2ºC (13.7ºF)\\nwinds from the SSE at 7.4 m/s (16.5 mph) gusting to 23.0 m/s (51.5 mph)\\npressure at 6.30 hPapic.twitter.com/jPxselhyBR'}, {'text': 'InSight sol 434 (2020-02-15) low -94.5ºC (-138.2ºF) high -7.3ºC (18.8ºF)\\nwinds from the SSE at 7.3 m/s (16.4 mph) gusting to 22.0 m/s (49.2 mph)\\npressure at 6.30 hPapic.twitter.com/NBfGRaZjqg'}, {'text': 'InSight sol 433 (2020-02-14) low -94.2ºC (-137.5ºF) high -8.9ºC (16.0ºF)\\nwinds from the W at 6.1 m/s (13.6 mph) gusting to 21.6 m/s (48.4 mph)\\npressure at 6.30 hPapic.twitter.com/1F89XWUZve'}]\n",
      "[{'text': 'InSight sol 443 (2020-02-24) low -94.8ºC (-138.6ºF) high -12.3ºC (9.8ºF)\\nwinds from the SSE at 7.0 m/s (15.6 mph) gusting to 22.2 m/s (49.6 mph)\\npressure at 6.30 hPapic.twitter.com/aaRx6POMFO'}, {'text': 'InSight sol 442 (2020-02-23) low -94.1ºC (-137.3ºF) high -10.5ºC (13.0ºF)\\nwinds from the SSE at 6.2 m/s (13.8 mph) gusting to 21.1 m/s (47.3 mph)\\npressure at 6.30 hPapic.twitter.com/lfdFlvxVxe'}, {'text': 'InSight sol 441 (2020-02-22) low -95.1ºC (-139.1ºF) high -13.5ºC (7.7ºF)\\nwinds from the SSE at 6.2 m/s (13.8 mph) gusting to 21.0 m/s (47.0 mph)\\npressure at 6.30 hPapic.twitter.com/ztf0TqK14M'}, {'text': 'InSight sol 440 (2020-02-21) low -95.2ºC (-139.3ºF) high -13.0ºC (8.6ºF)\\nwinds from the W at 6.0 m/s (13.4 mph) gusting to 23.7 m/s (52.9 mph)\\npressure at 6.30 hPapic.twitter.com/5uoXVigK0E'}, {'text': 'InSight sol 439 (2020-02-20) low -94.7ºC (-138.4ºF) high -9.3ºC (15.2ºF)\\nwinds from the SSE at 6.5 m/s (14.6 mph) gusting to 23.2 m/s (51.9 mph)\\npressure at 6.30 hPapic.twitter.com/VRiv3fQH9p'}, {'text': 'InSight sol 438 (2020-02-19) low -95.4ºC (-139.7ºF) high -10.0ºC (13.9ºF)\\nwinds from the SSE at 5.9 m/s (13.3 mph) gusting to 22.1 m/s (49.3 mph)\\npressure at 6.30 hPapic.twitter.com/dFu1S5EhpH'}, {'text': 'InSight sol 437 (2020-02-18) low -94.7ºC (-138.5ºF) high -9.9ºC (14.1ºF)\\nwinds from the SSE at 6.2 m/s (13.8 mph) gusting to 21.6 m/s (48.3 mph)\\npressure at 6.30 hPapic.twitter.com/SLsDLVefeh'}, {'text': 'InSight sol 436 (2020-02-17) low -94.4ºC (-137.9ºF) high -11.4ºC (11.4ºF)\\nwinds from the SSE at 6.3 m/s (14.1 mph) gusting to 21.5 m/s (48.1 mph)\\npressure at 6.30 hPa'}, {'text': \"What I particularly love about these backlit images of #Pluto:\\n\\nSee the bumpy irregular surface on the right side of this photo of Pluto's limb?\\n\\nThey're its friggin' *ice mountains* https://twitter.com/ThePlanetaryGuy/status/1229810782394703872\\xa0…pic.twitter.com/jAHMeDcxWU\"}, {'text': 'InSight sol 435 (2020-02-16) low -93.8ºC (-136.9ºF) high -10.2ºC (13.7ºF)\\nwinds from the SSE at 7.4 m/s (16.5 mph) gusting to 23.0 m/s (51.5 mph)\\npressure at 6.30 hPapic.twitter.com/jPxselhyBR'}, {'text': 'InSight sol 434 (2020-02-15) low -94.5ºC (-138.2ºF) high -7.3ºC (18.8ºF)\\nwinds from the SSE at 7.3 m/s (16.4 mph) gusting to 22.0 m/s (49.2 mph)\\npressure at 6.30 hPapic.twitter.com/NBfGRaZjqg'}, {'text': 'InSight sol 433 (2020-02-14) low -94.2ºC (-137.5ºF) high -8.9ºC (16.0ºF)\\nwinds from the W at 6.1 m/s (13.6 mph) gusting to 21.6 m/s (48.4 mph)\\npressure at 6.30 hPapic.twitter.com/1F89XWUZve'}, {'text': 'InSight sol 432 (2020-02-13) low -94.2ºC (-137.6ºF) high -9.4ºC (15.0ºF)\\nwinds from the W at 5.6 m/s (12.6 mph) gusting to 21.1 m/s (47.3 mph)\\npressure at 6.30 hPapic.twitter.com/1Opa2YuTxe'}]\n",
      "[{'text': 'InSight sol 443 (2020-02-24) low -94.8ºC (-138.6ºF) high -12.3ºC (9.8ºF)\\nwinds from the SSE at 7.0 m/s (15.6 mph) gusting to 22.2 m/s (49.6 mph)\\npressure at 6.30 hPapic.twitter.com/aaRx6POMFO'}, {'text': 'InSight sol 442 (2020-02-23) low -94.1ºC (-137.3ºF) high -10.5ºC (13.0ºF)\\nwinds from the SSE at 6.2 m/s (13.8 mph) gusting to 21.1 m/s (47.3 mph)\\npressure at 6.30 hPapic.twitter.com/lfdFlvxVxe'}, {'text': 'InSight sol 441 (2020-02-22) low -95.1ºC (-139.1ºF) high -13.5ºC (7.7ºF)\\nwinds from the SSE at 6.2 m/s (13.8 mph) gusting to 21.0 m/s (47.0 mph)\\npressure at 6.30 hPapic.twitter.com/ztf0TqK14M'}, {'text': 'InSight sol 440 (2020-02-21) low -95.2ºC (-139.3ºF) high -13.0ºC (8.6ºF)\\nwinds from the W at 6.0 m/s (13.4 mph) gusting to 23.7 m/s (52.9 mph)\\npressure at 6.30 hPapic.twitter.com/5uoXVigK0E'}, {'text': 'InSight sol 439 (2020-02-20) low -94.7ºC (-138.4ºF) high -9.3ºC (15.2ºF)\\nwinds from the SSE at 6.5 m/s (14.6 mph) gusting to 23.2 m/s (51.9 mph)\\npressure at 6.30 hPapic.twitter.com/VRiv3fQH9p'}, {'text': 'InSight sol 438 (2020-02-19) low -95.4ºC (-139.7ºF) high -10.0ºC (13.9ºF)\\nwinds from the SSE at 5.9 m/s (13.3 mph) gusting to 22.1 m/s (49.3 mph)\\npressure at 6.30 hPapic.twitter.com/dFu1S5EhpH'}, {'text': 'InSight sol 437 (2020-02-18) low -94.7ºC (-138.5ºF) high -9.9ºC (14.1ºF)\\nwinds from the SSE at 6.2 m/s (13.8 mph) gusting to 21.6 m/s (48.3 mph)\\npressure at 6.30 hPapic.twitter.com/SLsDLVefeh'}, {'text': 'InSight sol 436 (2020-02-17) low -94.4ºC (-137.9ºF) high -11.4ºC (11.4ºF)\\nwinds from the SSE at 6.3 m/s (14.1 mph) gusting to 21.5 m/s (48.1 mph)\\npressure at 6.30 hPa'}, {'text': \"What I particularly love about these backlit images of #Pluto:\\n\\nSee the bumpy irregular surface on the right side of this photo of Pluto's limb?\\n\\nThey're its friggin' *ice mountains* https://twitter.com/ThePlanetaryGuy/status/1229810782394703872\\xa0…pic.twitter.com/jAHMeDcxWU\"}, {'text': 'InSight sol 435 (2020-02-16) low -93.8ºC (-136.9ºF) high -10.2ºC (13.7ºF)\\nwinds from the SSE at 7.4 m/s (16.5 mph) gusting to 23.0 m/s (51.5 mph)\\npressure at 6.30 hPapic.twitter.com/jPxselhyBR'}, {'text': 'InSight sol 434 (2020-02-15) low -94.5ºC (-138.2ºF) high -7.3ºC (18.8ºF)\\nwinds from the SSE at 7.3 m/s (16.4 mph) gusting to 22.0 m/s (49.2 mph)\\npressure at 6.30 hPapic.twitter.com/NBfGRaZjqg'}, {'text': 'InSight sol 433 (2020-02-14) low -94.2ºC (-137.5ºF) high -8.9ºC (16.0ºF)\\nwinds from the W at 6.1 m/s (13.6 mph) gusting to 21.6 m/s (48.4 mph)\\npressure at 6.30 hPapic.twitter.com/1F89XWUZve'}, {'text': 'InSight sol 432 (2020-02-13) low -94.2ºC (-137.6ºF) high -9.4ºC (15.0ºF)\\nwinds from the W at 5.6 m/s (12.6 mph) gusting to 21.1 m/s (47.3 mph)\\npressure at 6.30 hPapic.twitter.com/1Opa2YuTxe'}, {'text': 'InSight sol 431 (2020-02-12) low -93.9ºC (-137.0ºF) high -11.9ºC (10.6ºF)\\nwinds from the W at 5.7 m/s (12.6 mph) gusting to 21.6 m/s (48.3 mph)\\npressure at 6.30 hPapic.twitter.com/tQzaZRv02G'}]\n",
      "[{'text': 'InSight sol 443 (2020-02-24) low -94.8ºC (-138.6ºF) high -12.3ºC (9.8ºF)\\nwinds from the SSE at 7.0 m/s (15.6 mph) gusting to 22.2 m/s (49.6 mph)\\npressure at 6.30 hPapic.twitter.com/aaRx6POMFO'}, {'text': 'InSight sol 442 (2020-02-23) low -94.1ºC (-137.3ºF) high -10.5ºC (13.0ºF)\\nwinds from the SSE at 6.2 m/s (13.8 mph) gusting to 21.1 m/s (47.3 mph)\\npressure at 6.30 hPapic.twitter.com/lfdFlvxVxe'}, {'text': 'InSight sol 441 (2020-02-22) low -95.1ºC (-139.1ºF) high -13.5ºC (7.7ºF)\\nwinds from the SSE at 6.2 m/s (13.8 mph) gusting to 21.0 m/s (47.0 mph)\\npressure at 6.30 hPapic.twitter.com/ztf0TqK14M'}, {'text': 'InSight sol 440 (2020-02-21) low -95.2ºC (-139.3ºF) high -13.0ºC (8.6ºF)\\nwinds from the W at 6.0 m/s (13.4 mph) gusting to 23.7 m/s (52.9 mph)\\npressure at 6.30 hPapic.twitter.com/5uoXVigK0E'}, {'text': 'InSight sol 439 (2020-02-20) low -94.7ºC (-138.4ºF) high -9.3ºC (15.2ºF)\\nwinds from the SSE at 6.5 m/s (14.6 mph) gusting to 23.2 m/s (51.9 mph)\\npressure at 6.30 hPapic.twitter.com/VRiv3fQH9p'}, {'text': 'InSight sol 438 (2020-02-19) low -95.4ºC (-139.7ºF) high -10.0ºC (13.9ºF)\\nwinds from the SSE at 5.9 m/s (13.3 mph) gusting to 22.1 m/s (49.3 mph)\\npressure at 6.30 hPapic.twitter.com/dFu1S5EhpH'}, {'text': 'InSight sol 437 (2020-02-18) low -94.7ºC (-138.5ºF) high -9.9ºC (14.1ºF)\\nwinds from the SSE at 6.2 m/s (13.8 mph) gusting to 21.6 m/s (48.3 mph)\\npressure at 6.30 hPapic.twitter.com/SLsDLVefeh'}, {'text': 'InSight sol 436 (2020-02-17) low -94.4ºC (-137.9ºF) high -11.4ºC (11.4ºF)\\nwinds from the SSE at 6.3 m/s (14.1 mph) gusting to 21.5 m/s (48.1 mph)\\npressure at 6.30 hPa'}, {'text': \"What I particularly love about these backlit images of #Pluto:\\n\\nSee the bumpy irregular surface on the right side of this photo of Pluto's limb?\\n\\nThey're its friggin' *ice mountains* https://twitter.com/ThePlanetaryGuy/status/1229810782394703872\\xa0…pic.twitter.com/jAHMeDcxWU\"}, {'text': 'InSight sol 435 (2020-02-16) low -93.8ºC (-136.9ºF) high -10.2ºC (13.7ºF)\\nwinds from the SSE at 7.4 m/s (16.5 mph) gusting to 23.0 m/s (51.5 mph)\\npressure at 6.30 hPapic.twitter.com/jPxselhyBR'}, {'text': 'InSight sol 434 (2020-02-15) low -94.5ºC (-138.2ºF) high -7.3ºC (18.8ºF)\\nwinds from the SSE at 7.3 m/s (16.4 mph) gusting to 22.0 m/s (49.2 mph)\\npressure at 6.30 hPapic.twitter.com/NBfGRaZjqg'}, {'text': 'InSight sol 433 (2020-02-14) low -94.2ºC (-137.5ºF) high -8.9ºC (16.0ºF)\\nwinds from the W at 6.1 m/s (13.6 mph) gusting to 21.6 m/s (48.4 mph)\\npressure at 6.30 hPapic.twitter.com/1F89XWUZve'}, {'text': 'InSight sol 432 (2020-02-13) low -94.2ºC (-137.6ºF) high -9.4ºC (15.0ºF)\\nwinds from the W at 5.6 m/s (12.6 mph) gusting to 21.1 m/s (47.3 mph)\\npressure at 6.30 hPapic.twitter.com/1Opa2YuTxe'}, {'text': 'InSight sol 431 (2020-02-12) low -93.9ºC (-137.0ºF) high -11.9ºC (10.6ºF)\\nwinds from the W at 5.7 m/s (12.6 mph) gusting to 21.6 m/s (48.3 mph)\\npressure at 6.30 hPapic.twitter.com/tQzaZRv02G'}, {'text': 'InSight sol 430 (2020-02-11) low -93.3ºC (-135.9ºF) high -13.0ºC (8.6ºF)\\nwinds from the W at 5.9 m/s (13.3 mph) gusting to 21.6 m/s (48.3 mph)\\npressure at 6.30 hPapic.twitter.com/nVorOVQ7ZM'}]\n",
      "[{'text': 'InSight sol 443 (2020-02-24) low -94.8ºC (-138.6ºF) high -12.3ºC (9.8ºF)\\nwinds from the SSE at 7.0 m/s (15.6 mph) gusting to 22.2 m/s (49.6 mph)\\npressure at 6.30 hPapic.twitter.com/aaRx6POMFO'}, {'text': 'InSight sol 442 (2020-02-23) low -94.1ºC (-137.3ºF) high -10.5ºC (13.0ºF)\\nwinds from the SSE at 6.2 m/s (13.8 mph) gusting to 21.1 m/s (47.3 mph)\\npressure at 6.30 hPapic.twitter.com/lfdFlvxVxe'}, {'text': 'InSight sol 441 (2020-02-22) low -95.1ºC (-139.1ºF) high -13.5ºC (7.7ºF)\\nwinds from the SSE at 6.2 m/s (13.8 mph) gusting to 21.0 m/s (47.0 mph)\\npressure at 6.30 hPapic.twitter.com/ztf0TqK14M'}, {'text': 'InSight sol 440 (2020-02-21) low -95.2ºC (-139.3ºF) high -13.0ºC (8.6ºF)\\nwinds from the W at 6.0 m/s (13.4 mph) gusting to 23.7 m/s (52.9 mph)\\npressure at 6.30 hPapic.twitter.com/5uoXVigK0E'}, {'text': 'InSight sol 439 (2020-02-20) low -94.7ºC (-138.4ºF) high -9.3ºC (15.2ºF)\\nwinds from the SSE at 6.5 m/s (14.6 mph) gusting to 23.2 m/s (51.9 mph)\\npressure at 6.30 hPapic.twitter.com/VRiv3fQH9p'}, {'text': 'InSight sol 438 (2020-02-19) low -95.4ºC (-139.7ºF) high -10.0ºC (13.9ºF)\\nwinds from the SSE at 5.9 m/s (13.3 mph) gusting to 22.1 m/s (49.3 mph)\\npressure at 6.30 hPapic.twitter.com/dFu1S5EhpH'}, {'text': 'InSight sol 437 (2020-02-18) low -94.7ºC (-138.5ºF) high -9.9ºC (14.1ºF)\\nwinds from the SSE at 6.2 m/s (13.8 mph) gusting to 21.6 m/s (48.3 mph)\\npressure at 6.30 hPapic.twitter.com/SLsDLVefeh'}, {'text': 'InSight sol 436 (2020-02-17) low -94.4ºC (-137.9ºF) high -11.4ºC (11.4ºF)\\nwinds from the SSE at 6.3 m/s (14.1 mph) gusting to 21.5 m/s (48.1 mph)\\npressure at 6.30 hPa'}, {'text': \"What I particularly love about these backlit images of #Pluto:\\n\\nSee the bumpy irregular surface on the right side of this photo of Pluto's limb?\\n\\nThey're its friggin' *ice mountains* https://twitter.com/ThePlanetaryGuy/status/1229810782394703872\\xa0…pic.twitter.com/jAHMeDcxWU\"}, {'text': 'InSight sol 435 (2020-02-16) low -93.8ºC (-136.9ºF) high -10.2ºC (13.7ºF)\\nwinds from the SSE at 7.4 m/s (16.5 mph) gusting to 23.0 m/s (51.5 mph)\\npressure at 6.30 hPapic.twitter.com/jPxselhyBR'}, {'text': 'InSight sol 434 (2020-02-15) low -94.5ºC (-138.2ºF) high -7.3ºC (18.8ºF)\\nwinds from the SSE at 7.3 m/s (16.4 mph) gusting to 22.0 m/s (49.2 mph)\\npressure at 6.30 hPapic.twitter.com/NBfGRaZjqg'}, {'text': 'InSight sol 433 (2020-02-14) low -94.2ºC (-137.5ºF) high -8.9ºC (16.0ºF)\\nwinds from the W at 6.1 m/s (13.6 mph) gusting to 21.6 m/s (48.4 mph)\\npressure at 6.30 hPapic.twitter.com/1F89XWUZve'}, {'text': 'InSight sol 432 (2020-02-13) low -94.2ºC (-137.6ºF) high -9.4ºC (15.0ºF)\\nwinds from the W at 5.6 m/s (12.6 mph) gusting to 21.1 m/s (47.3 mph)\\npressure at 6.30 hPapic.twitter.com/1Opa2YuTxe'}, {'text': 'InSight sol 431 (2020-02-12) low -93.9ºC (-137.0ºF) high -11.9ºC (10.6ºF)\\nwinds from the W at 5.7 m/s (12.6 mph) gusting to 21.6 m/s (48.3 mph)\\npressure at 6.30 hPapic.twitter.com/tQzaZRv02G'}, {'text': 'InSight sol 430 (2020-02-11) low -93.3ºC (-135.9ºF) high -13.0ºC (8.6ºF)\\nwinds from the W at 5.9 m/s (13.3 mph) gusting to 21.6 m/s (48.3 mph)\\npressure at 6.30 hPapic.twitter.com/nVorOVQ7ZM'}, {'text': 'InSight sol 429 (2020-02-10) low -94.8ºC (-138.6ºF) high -10.4ºC (13.3ºF)\\nwinds from the W at 6.2 m/s (13.8 mph) gusting to 26.3 m/s (58.8 mph)\\npressure at 6.30 hPapic.twitter.com/1plhb6ADP6'}]\n",
      "[{'text': 'InSight sol 443 (2020-02-24) low -94.8ºC (-138.6ºF) high -12.3ºC (9.8ºF)\\nwinds from the SSE at 7.0 m/s (15.6 mph) gusting to 22.2 m/s (49.6 mph)\\npressure at 6.30 hPapic.twitter.com/aaRx6POMFO'}, {'text': 'InSight sol 442 (2020-02-23) low -94.1ºC (-137.3ºF) high -10.5ºC (13.0ºF)\\nwinds from the SSE at 6.2 m/s (13.8 mph) gusting to 21.1 m/s (47.3 mph)\\npressure at 6.30 hPapic.twitter.com/lfdFlvxVxe'}, {'text': 'InSight sol 441 (2020-02-22) low -95.1ºC (-139.1ºF) high -13.5ºC (7.7ºF)\\nwinds from the SSE at 6.2 m/s (13.8 mph) gusting to 21.0 m/s (47.0 mph)\\npressure at 6.30 hPapic.twitter.com/ztf0TqK14M'}, {'text': 'InSight sol 440 (2020-02-21) low -95.2ºC (-139.3ºF) high -13.0ºC (8.6ºF)\\nwinds from the W at 6.0 m/s (13.4 mph) gusting to 23.7 m/s (52.9 mph)\\npressure at 6.30 hPapic.twitter.com/5uoXVigK0E'}, {'text': 'InSight sol 439 (2020-02-20) low -94.7ºC (-138.4ºF) high -9.3ºC (15.2ºF)\\nwinds from the SSE at 6.5 m/s (14.6 mph) gusting to 23.2 m/s (51.9 mph)\\npressure at 6.30 hPapic.twitter.com/VRiv3fQH9p'}, {'text': 'InSight sol 438 (2020-02-19) low -95.4ºC (-139.7ºF) high -10.0ºC (13.9ºF)\\nwinds from the SSE at 5.9 m/s (13.3 mph) gusting to 22.1 m/s (49.3 mph)\\npressure at 6.30 hPapic.twitter.com/dFu1S5EhpH'}, {'text': 'InSight sol 437 (2020-02-18) low -94.7ºC (-138.5ºF) high -9.9ºC (14.1ºF)\\nwinds from the SSE at 6.2 m/s (13.8 mph) gusting to 21.6 m/s (48.3 mph)\\npressure at 6.30 hPapic.twitter.com/SLsDLVefeh'}, {'text': 'InSight sol 436 (2020-02-17) low -94.4ºC (-137.9ºF) high -11.4ºC (11.4ºF)\\nwinds from the SSE at 6.3 m/s (14.1 mph) gusting to 21.5 m/s (48.1 mph)\\npressure at 6.30 hPa'}, {'text': \"What I particularly love about these backlit images of #Pluto:\\n\\nSee the bumpy irregular surface on the right side of this photo of Pluto's limb?\\n\\nThey're its friggin' *ice mountains* https://twitter.com/ThePlanetaryGuy/status/1229810782394703872\\xa0…pic.twitter.com/jAHMeDcxWU\"}, {'text': 'InSight sol 435 (2020-02-16) low -93.8ºC (-136.9ºF) high -10.2ºC (13.7ºF)\\nwinds from the SSE at 7.4 m/s (16.5 mph) gusting to 23.0 m/s (51.5 mph)\\npressure at 6.30 hPapic.twitter.com/jPxselhyBR'}, {'text': 'InSight sol 434 (2020-02-15) low -94.5ºC (-138.2ºF) high -7.3ºC (18.8ºF)\\nwinds from the SSE at 7.3 m/s (16.4 mph) gusting to 22.0 m/s (49.2 mph)\\npressure at 6.30 hPapic.twitter.com/NBfGRaZjqg'}, {'text': 'InSight sol 433 (2020-02-14) low -94.2ºC (-137.5ºF) high -8.9ºC (16.0ºF)\\nwinds from the W at 6.1 m/s (13.6 mph) gusting to 21.6 m/s (48.4 mph)\\npressure at 6.30 hPapic.twitter.com/1F89XWUZve'}, {'text': 'InSight sol 432 (2020-02-13) low -94.2ºC (-137.6ºF) high -9.4ºC (15.0ºF)\\nwinds from the W at 5.6 m/s (12.6 mph) gusting to 21.1 m/s (47.3 mph)\\npressure at 6.30 hPapic.twitter.com/1Opa2YuTxe'}, {'text': 'InSight sol 431 (2020-02-12) low -93.9ºC (-137.0ºF) high -11.9ºC (10.6ºF)\\nwinds from the W at 5.7 m/s (12.6 mph) gusting to 21.6 m/s (48.3 mph)\\npressure at 6.30 hPapic.twitter.com/tQzaZRv02G'}, {'text': 'InSight sol 430 (2020-02-11) low -93.3ºC (-135.9ºF) high -13.0ºC (8.6ºF)\\nwinds from the W at 5.9 m/s (13.3 mph) gusting to 21.6 m/s (48.3 mph)\\npressure at 6.30 hPapic.twitter.com/nVorOVQ7ZM'}, {'text': 'InSight sol 429 (2020-02-10) low -94.8ºC (-138.6ºF) high -10.4ºC (13.3ºF)\\nwinds from the W at 6.2 m/s (13.8 mph) gusting to 26.3 m/s (58.8 mph)\\npressure at 6.30 hPapic.twitter.com/1plhb6ADP6'}, {'text': 'InSight sol 428 (2020-02-08) low -91.6ºC (-132.9ºF) high -8.7ºC (16.3ºF)\\nwinds from the WNW at 5.9 m/s (13.3 mph) gusting to 25.4 m/s (56.9 mph)\\npressure at 6.30 hPapic.twitter.com/GH5cotJVzC'}]\n",
      "[{'text': 'InSight sol 443 (2020-02-24) low -94.8ºC (-138.6ºF) high -12.3ºC (9.8ºF)\\nwinds from the SSE at 7.0 m/s (15.6 mph) gusting to 22.2 m/s (49.6 mph)\\npressure at 6.30 hPapic.twitter.com/aaRx6POMFO'}, {'text': 'InSight sol 442 (2020-02-23) low -94.1ºC (-137.3ºF) high -10.5ºC (13.0ºF)\\nwinds from the SSE at 6.2 m/s (13.8 mph) gusting to 21.1 m/s (47.3 mph)\\npressure at 6.30 hPapic.twitter.com/lfdFlvxVxe'}, {'text': 'InSight sol 441 (2020-02-22) low -95.1ºC (-139.1ºF) high -13.5ºC (7.7ºF)\\nwinds from the SSE at 6.2 m/s (13.8 mph) gusting to 21.0 m/s (47.0 mph)\\npressure at 6.30 hPapic.twitter.com/ztf0TqK14M'}, {'text': 'InSight sol 440 (2020-02-21) low -95.2ºC (-139.3ºF) high -13.0ºC (8.6ºF)\\nwinds from the W at 6.0 m/s (13.4 mph) gusting to 23.7 m/s (52.9 mph)\\npressure at 6.30 hPapic.twitter.com/5uoXVigK0E'}, {'text': 'InSight sol 439 (2020-02-20) low -94.7ºC (-138.4ºF) high -9.3ºC (15.2ºF)\\nwinds from the SSE at 6.5 m/s (14.6 mph) gusting to 23.2 m/s (51.9 mph)\\npressure at 6.30 hPapic.twitter.com/VRiv3fQH9p'}, {'text': 'InSight sol 438 (2020-02-19) low -95.4ºC (-139.7ºF) high -10.0ºC (13.9ºF)\\nwinds from the SSE at 5.9 m/s (13.3 mph) gusting to 22.1 m/s (49.3 mph)\\npressure at 6.30 hPapic.twitter.com/dFu1S5EhpH'}, {'text': 'InSight sol 437 (2020-02-18) low -94.7ºC (-138.5ºF) high -9.9ºC (14.1ºF)\\nwinds from the SSE at 6.2 m/s (13.8 mph) gusting to 21.6 m/s (48.3 mph)\\npressure at 6.30 hPapic.twitter.com/SLsDLVefeh'}, {'text': 'InSight sol 436 (2020-02-17) low -94.4ºC (-137.9ºF) high -11.4ºC (11.4ºF)\\nwinds from the SSE at 6.3 m/s (14.1 mph) gusting to 21.5 m/s (48.1 mph)\\npressure at 6.30 hPa'}, {'text': \"What I particularly love about these backlit images of #Pluto:\\n\\nSee the bumpy irregular surface on the right side of this photo of Pluto's limb?\\n\\nThey're its friggin' *ice mountains* https://twitter.com/ThePlanetaryGuy/status/1229810782394703872\\xa0…pic.twitter.com/jAHMeDcxWU\"}, {'text': 'InSight sol 435 (2020-02-16) low -93.8ºC (-136.9ºF) high -10.2ºC (13.7ºF)\\nwinds from the SSE at 7.4 m/s (16.5 mph) gusting to 23.0 m/s (51.5 mph)\\npressure at 6.30 hPapic.twitter.com/jPxselhyBR'}, {'text': 'InSight sol 434 (2020-02-15) low -94.5ºC (-138.2ºF) high -7.3ºC (18.8ºF)\\nwinds from the SSE at 7.3 m/s (16.4 mph) gusting to 22.0 m/s (49.2 mph)\\npressure at 6.30 hPapic.twitter.com/NBfGRaZjqg'}, {'text': 'InSight sol 433 (2020-02-14) low -94.2ºC (-137.5ºF) high -8.9ºC (16.0ºF)\\nwinds from the W at 6.1 m/s (13.6 mph) gusting to 21.6 m/s (48.4 mph)\\npressure at 6.30 hPapic.twitter.com/1F89XWUZve'}, {'text': 'InSight sol 432 (2020-02-13) low -94.2ºC (-137.6ºF) high -9.4ºC (15.0ºF)\\nwinds from the W at 5.6 m/s (12.6 mph) gusting to 21.1 m/s (47.3 mph)\\npressure at 6.30 hPapic.twitter.com/1Opa2YuTxe'}, {'text': 'InSight sol 431 (2020-02-12) low -93.9ºC (-137.0ºF) high -11.9ºC (10.6ºF)\\nwinds from the W at 5.7 m/s (12.6 mph) gusting to 21.6 m/s (48.3 mph)\\npressure at 6.30 hPapic.twitter.com/tQzaZRv02G'}, {'text': 'InSight sol 430 (2020-02-11) low -93.3ºC (-135.9ºF) high -13.0ºC (8.6ºF)\\nwinds from the W at 5.9 m/s (13.3 mph) gusting to 21.6 m/s (48.3 mph)\\npressure at 6.30 hPapic.twitter.com/nVorOVQ7ZM'}, {'text': 'InSight sol 429 (2020-02-10) low -94.8ºC (-138.6ºF) high -10.4ºC (13.3ºF)\\nwinds from the W at 6.2 m/s (13.8 mph) gusting to 26.3 m/s (58.8 mph)\\npressure at 6.30 hPapic.twitter.com/1plhb6ADP6'}, {'text': 'InSight sol 428 (2020-02-08) low -91.6ºC (-132.9ºF) high -8.7ºC (16.3ºF)\\nwinds from the WNW at 5.9 m/s (13.3 mph) gusting to 25.4 m/s (56.9 mph)\\npressure at 6.30 hPapic.twitter.com/GH5cotJVzC'}, {'text': 'Happy 150th Birthday to the National Weather Service. Ready to open Mars offices when you are. Should have the Jezero crater site up and running this time next year. #Mars2020\\nhttps://vlab.ncep.noaa.gov/web/nws-heritage\\xa0…pic.twitter.com/UeAu31btC8'}]\n",
      "[{'text': 'InSight sol 443 (2020-02-24) low -94.8ºC (-138.6ºF) high -12.3ºC (9.8ºF)\\nwinds from the SSE at 7.0 m/s (15.6 mph) gusting to 22.2 m/s (49.6 mph)\\npressure at 6.30 hPapic.twitter.com/aaRx6POMFO'}, {'text': 'InSight sol 442 (2020-02-23) low -94.1ºC (-137.3ºF) high -10.5ºC (13.0ºF)\\nwinds from the SSE at 6.2 m/s (13.8 mph) gusting to 21.1 m/s (47.3 mph)\\npressure at 6.30 hPapic.twitter.com/lfdFlvxVxe'}, {'text': 'InSight sol 441 (2020-02-22) low -95.1ºC (-139.1ºF) high -13.5ºC (7.7ºF)\\nwinds from the SSE at 6.2 m/s (13.8 mph) gusting to 21.0 m/s (47.0 mph)\\npressure at 6.30 hPapic.twitter.com/ztf0TqK14M'}, {'text': 'InSight sol 440 (2020-02-21) low -95.2ºC (-139.3ºF) high -13.0ºC (8.6ºF)\\nwinds from the W at 6.0 m/s (13.4 mph) gusting to 23.7 m/s (52.9 mph)\\npressure at 6.30 hPapic.twitter.com/5uoXVigK0E'}, {'text': 'InSight sol 439 (2020-02-20) low -94.7ºC (-138.4ºF) high -9.3ºC (15.2ºF)\\nwinds from the SSE at 6.5 m/s (14.6 mph) gusting to 23.2 m/s (51.9 mph)\\npressure at 6.30 hPapic.twitter.com/VRiv3fQH9p'}, {'text': 'InSight sol 438 (2020-02-19) low -95.4ºC (-139.7ºF) high -10.0ºC (13.9ºF)\\nwinds from the SSE at 5.9 m/s (13.3 mph) gusting to 22.1 m/s (49.3 mph)\\npressure at 6.30 hPapic.twitter.com/dFu1S5EhpH'}, {'text': 'InSight sol 437 (2020-02-18) low -94.7ºC (-138.5ºF) high -9.9ºC (14.1ºF)\\nwinds from the SSE at 6.2 m/s (13.8 mph) gusting to 21.6 m/s (48.3 mph)\\npressure at 6.30 hPapic.twitter.com/SLsDLVefeh'}, {'text': 'InSight sol 436 (2020-02-17) low -94.4ºC (-137.9ºF) high -11.4ºC (11.4ºF)\\nwinds from the SSE at 6.3 m/s (14.1 mph) gusting to 21.5 m/s (48.1 mph)\\npressure at 6.30 hPa'}, {'text': \"What I particularly love about these backlit images of #Pluto:\\n\\nSee the bumpy irregular surface on the right side of this photo of Pluto's limb?\\n\\nThey're its friggin' *ice mountains* https://twitter.com/ThePlanetaryGuy/status/1229810782394703872\\xa0…pic.twitter.com/jAHMeDcxWU\"}, {'text': 'InSight sol 435 (2020-02-16) low -93.8ºC (-136.9ºF) high -10.2ºC (13.7ºF)\\nwinds from the SSE at 7.4 m/s (16.5 mph) gusting to 23.0 m/s (51.5 mph)\\npressure at 6.30 hPapic.twitter.com/jPxselhyBR'}, {'text': 'InSight sol 434 (2020-02-15) low -94.5ºC (-138.2ºF) high -7.3ºC (18.8ºF)\\nwinds from the SSE at 7.3 m/s (16.4 mph) gusting to 22.0 m/s (49.2 mph)\\npressure at 6.30 hPapic.twitter.com/NBfGRaZjqg'}, {'text': 'InSight sol 433 (2020-02-14) low -94.2ºC (-137.5ºF) high -8.9ºC (16.0ºF)\\nwinds from the W at 6.1 m/s (13.6 mph) gusting to 21.6 m/s (48.4 mph)\\npressure at 6.30 hPapic.twitter.com/1F89XWUZve'}, {'text': 'InSight sol 432 (2020-02-13) low -94.2ºC (-137.6ºF) high -9.4ºC (15.0ºF)\\nwinds from the W at 5.6 m/s (12.6 mph) gusting to 21.1 m/s (47.3 mph)\\npressure at 6.30 hPapic.twitter.com/1Opa2YuTxe'}, {'text': 'InSight sol 431 (2020-02-12) low -93.9ºC (-137.0ºF) high -11.9ºC (10.6ºF)\\nwinds from the W at 5.7 m/s (12.6 mph) gusting to 21.6 m/s (48.3 mph)\\npressure at 6.30 hPapic.twitter.com/tQzaZRv02G'}, {'text': 'InSight sol 430 (2020-02-11) low -93.3ºC (-135.9ºF) high -13.0ºC (8.6ºF)\\nwinds from the W at 5.9 m/s (13.3 mph) gusting to 21.6 m/s (48.3 mph)\\npressure at 6.30 hPapic.twitter.com/nVorOVQ7ZM'}, {'text': 'InSight sol 429 (2020-02-10) low -94.8ºC (-138.6ºF) high -10.4ºC (13.3ºF)\\nwinds from the W at 6.2 m/s (13.8 mph) gusting to 26.3 m/s (58.8 mph)\\npressure at 6.30 hPapic.twitter.com/1plhb6ADP6'}, {'text': 'InSight sol 428 (2020-02-08) low -91.6ºC (-132.9ºF) high -8.7ºC (16.3ºF)\\nwinds from the WNW at 5.9 m/s (13.3 mph) gusting to 25.4 m/s (56.9 mph)\\npressure at 6.30 hPapic.twitter.com/GH5cotJVzC'}, {'text': 'Happy 150th Birthday to the National Weather Service. Ready to open Mars offices when you are. Should have the Jezero crater site up and running this time next year. #Mars2020\\nhttps://vlab.ncep.noaa.gov/web/nws-heritage\\xa0…pic.twitter.com/UeAu31btC8'}, {'text': 'As the @nasa @esa Solar Orbiter Mission prepares for a 11:03 p.m. EST launch tonight, a look at the missions that sought to unlock the mysteries of the Sun and space weather.  Watch live on NASA TV https://www.nasa.gov/multimedia/nasatv\\xa0…pic.twitter.com/euTFic5y8B'}]\n",
      "[{'text': 'InSight sol 443 (2020-02-24) low -94.8ºC (-138.6ºF) high -12.3ºC (9.8ºF)\\nwinds from the SSE at 7.0 m/s (15.6 mph) gusting to 22.2 m/s (49.6 mph)\\npressure at 6.30 hPapic.twitter.com/aaRx6POMFO'}, {'text': 'InSight sol 442 (2020-02-23) low -94.1ºC (-137.3ºF) high -10.5ºC (13.0ºF)\\nwinds from the SSE at 6.2 m/s (13.8 mph) gusting to 21.1 m/s (47.3 mph)\\npressure at 6.30 hPapic.twitter.com/lfdFlvxVxe'}, {'text': 'InSight sol 441 (2020-02-22) low -95.1ºC (-139.1ºF) high -13.5ºC (7.7ºF)\\nwinds from the SSE at 6.2 m/s (13.8 mph) gusting to 21.0 m/s (47.0 mph)\\npressure at 6.30 hPapic.twitter.com/ztf0TqK14M'}, {'text': 'InSight sol 440 (2020-02-21) low -95.2ºC (-139.3ºF) high -13.0ºC (8.6ºF)\\nwinds from the W at 6.0 m/s (13.4 mph) gusting to 23.7 m/s (52.9 mph)\\npressure at 6.30 hPapic.twitter.com/5uoXVigK0E'}, {'text': 'InSight sol 439 (2020-02-20) low -94.7ºC (-138.4ºF) high -9.3ºC (15.2ºF)\\nwinds from the SSE at 6.5 m/s (14.6 mph) gusting to 23.2 m/s (51.9 mph)\\npressure at 6.30 hPapic.twitter.com/VRiv3fQH9p'}, {'text': 'InSight sol 438 (2020-02-19) low -95.4ºC (-139.7ºF) high -10.0ºC (13.9ºF)\\nwinds from the SSE at 5.9 m/s (13.3 mph) gusting to 22.1 m/s (49.3 mph)\\npressure at 6.30 hPapic.twitter.com/dFu1S5EhpH'}, {'text': 'InSight sol 437 (2020-02-18) low -94.7ºC (-138.5ºF) high -9.9ºC (14.1ºF)\\nwinds from the SSE at 6.2 m/s (13.8 mph) gusting to 21.6 m/s (48.3 mph)\\npressure at 6.30 hPapic.twitter.com/SLsDLVefeh'}, {'text': 'InSight sol 436 (2020-02-17) low -94.4ºC (-137.9ºF) high -11.4ºC (11.4ºF)\\nwinds from the SSE at 6.3 m/s (14.1 mph) gusting to 21.5 m/s (48.1 mph)\\npressure at 6.30 hPa'}, {'text': \"What I particularly love about these backlit images of #Pluto:\\n\\nSee the bumpy irregular surface on the right side of this photo of Pluto's limb?\\n\\nThey're its friggin' *ice mountains* https://twitter.com/ThePlanetaryGuy/status/1229810782394703872\\xa0…pic.twitter.com/jAHMeDcxWU\"}, {'text': 'InSight sol 435 (2020-02-16) low -93.8ºC (-136.9ºF) high -10.2ºC (13.7ºF)\\nwinds from the SSE at 7.4 m/s (16.5 mph) gusting to 23.0 m/s (51.5 mph)\\npressure at 6.30 hPapic.twitter.com/jPxselhyBR'}, {'text': 'InSight sol 434 (2020-02-15) low -94.5ºC (-138.2ºF) high -7.3ºC (18.8ºF)\\nwinds from the SSE at 7.3 m/s (16.4 mph) gusting to 22.0 m/s (49.2 mph)\\npressure at 6.30 hPapic.twitter.com/NBfGRaZjqg'}, {'text': 'InSight sol 433 (2020-02-14) low -94.2ºC (-137.5ºF) high -8.9ºC (16.0ºF)\\nwinds from the W at 6.1 m/s (13.6 mph) gusting to 21.6 m/s (48.4 mph)\\npressure at 6.30 hPapic.twitter.com/1F89XWUZve'}, {'text': 'InSight sol 432 (2020-02-13) low -94.2ºC (-137.6ºF) high -9.4ºC (15.0ºF)\\nwinds from the W at 5.6 m/s (12.6 mph) gusting to 21.1 m/s (47.3 mph)\\npressure at 6.30 hPapic.twitter.com/1Opa2YuTxe'}, {'text': 'InSight sol 431 (2020-02-12) low -93.9ºC (-137.0ºF) high -11.9ºC (10.6ºF)\\nwinds from the W at 5.7 m/s (12.6 mph) gusting to 21.6 m/s (48.3 mph)\\npressure at 6.30 hPapic.twitter.com/tQzaZRv02G'}, {'text': 'InSight sol 430 (2020-02-11) low -93.3ºC (-135.9ºF) high -13.0ºC (8.6ºF)\\nwinds from the W at 5.9 m/s (13.3 mph) gusting to 21.6 m/s (48.3 mph)\\npressure at 6.30 hPapic.twitter.com/nVorOVQ7ZM'}, {'text': 'InSight sol 429 (2020-02-10) low -94.8ºC (-138.6ºF) high -10.4ºC (13.3ºF)\\nwinds from the W at 6.2 m/s (13.8 mph) gusting to 26.3 m/s (58.8 mph)\\npressure at 6.30 hPapic.twitter.com/1plhb6ADP6'}, {'text': 'InSight sol 428 (2020-02-08) low -91.6ºC (-132.9ºF) high -8.7ºC (16.3ºF)\\nwinds from the WNW at 5.9 m/s (13.3 mph) gusting to 25.4 m/s (56.9 mph)\\npressure at 6.30 hPapic.twitter.com/GH5cotJVzC'}, {'text': 'Happy 150th Birthday to the National Weather Service. Ready to open Mars offices when you are. Should have the Jezero crater site up and running this time next year. #Mars2020\\nhttps://vlab.ncep.noaa.gov/web/nws-heritage\\xa0…pic.twitter.com/UeAu31btC8'}, {'text': 'As the @nasa @esa Solar Orbiter Mission prepares for a 11:03 p.m. EST launch tonight, a look at the missions that sought to unlock the mysteries of the Sun and space weather.  Watch live on NASA TV https://www.nasa.gov/multimedia/nasatv\\xa0…pic.twitter.com/euTFic5y8B'}, {'text': 'InSight sol 427 (2020-02-07) low -91.7ºC (-133.0ºF) high -9.8ºC (14.4ºF)\\nwinds from the WNW at 6.0 m/s (13.5 mph) gusting to 25.0 m/s (56.0 mph)\\npressure at 6.30 hPapic.twitter.com/4pin45x1Xl'}]\n"
     ]
    }
   ],
   "source": [
    "all_tweets = []\n",
    "for tweet in timeline:\n",
    "    #tweet_id = timeline['data-item-id']\n",
    "    tweet_text = tweet.select('p.tweet-text')[0].get_text()\n",
    "    all_tweets.append({\"text\": tweet_text})\n",
    "\n",
    "one_tweet = all_tweets"
   ]
  },
  {
   "cell_type": "code",
   "execution_count": 1,
   "metadata": {},
   "outputs": [
    {
     "ename": "NameError",
     "evalue": "name 'twitter_soup' is not defined",
     "output_type": "error",
     "traceback": [
      "\u001b[0;31m---------------------------------------------------------------------------\u001b[0m",
      "\u001b[0;31mNameError\u001b[0m                                 Traceback (most recent call last)",
      "\u001b[0;32m<ipython-input-1-4839b765d384>\u001b[0m in \u001b[0;36m<module>\u001b[0;34m\u001b[0m\n\u001b[1;32m      1\u001b[0m \u001b[0;31m# The article header\u001b[0m\u001b[0;34m\u001b[0m\u001b[0;34m\u001b[0m\u001b[0;34m\u001b[0m\u001b[0m\n\u001b[0;32m----> 2\u001b[0;31m \u001b[0mmars_weather\u001b[0m \u001b[0;34m=\u001b[0m \u001b[0mtwitter_soup\u001b[0m\u001b[0;34m.\u001b[0m\u001b[0mfind\u001b[0m\u001b[0;34m(\u001b[0m\u001b[0;34m'span'\u001b[0m\u001b[0;34m,\u001b[0m \u001b[0mclass_\u001b[0m\u001b[0;34m=\u001b[0m\u001b[0;34m\"css-901oao css-16my406 r-1qd0xha r-ad9z0x r-bcqeeo r-qvutc0\"\u001b[0m\u001b[0;34m)\u001b[0m\u001b[0;34m\u001b[0m\u001b[0;34m\u001b[0m\u001b[0m\n\u001b[0m\u001b[1;32m      3\u001b[0m \u001b[0mprint\u001b[0m\u001b[0;34m(\u001b[0m\u001b[0mmars_weather\u001b[0m\u001b[0;34m)\u001b[0m\u001b[0;34m\u001b[0m\u001b[0;34m\u001b[0m\u001b[0m\n",
      "\u001b[0;31mNameError\u001b[0m: name 'twitter_soup' is not defined"
     ]
    }
   ],
   "source": [
    "# The article header\n",
    "mars_weather = twitter_soup.find('span', class_=\"css-901oao css-16my406 r-1qd0xha r-ad9z0x r-bcqeeo r-qvutc0\")\n",
    "print(mars_weather)"
   ]
  },
  {
   "cell_type": "code",
   "execution_count": null,
   "metadata": {},
   "outputs": [],
   "source": [
    "print(twitter_soup.prettify())"
   ]
  },
  {
   "cell_type": "code",
   "execution_count": 49,
   "metadata": {},
   "outputs": [],
   "source": [
    "browser.visit(twitter_url)\n",
    "time.sleep(1)\n",
    "html = browser.html\n",
    "twitter_soup = BeautifulSoup(html, 'html.parser')"
   ]
  },
  {
   "cell_type": "code",
   "execution_count": 50,
   "metadata": {},
   "outputs": [
    {
     "name": "stdout",
     "output_type": "stream",
     "text": [
      "<span class=\"css-901oao css-16my406 r-1qd0xha r-ad9z0x r-bcqeeo r-qvutc0\">Log in</span>\n"
     ]
    }
   ],
   "source": [
    "mars_weather = twitter_soup.find('span', class_=\"css-901oao css-16my406 r-1qd0xha r-ad9z0x r-bcqeeo r-qvutc0\")\n",
    "print(mars_weather)"
   ]
  },
  {
   "cell_type": "code",
   "execution_count": 1,
   "metadata": {},
   "outputs": [
    {
     "name": "stdout",
     "output_type": "stream",
     "text": [
      "Collecting twitterscraper\n",
      "  Downloading https://files.pythonhosted.org/packages/7f/0f/7cf31233d4f5616c971f6b1ae22dd73fe9a69430877f5c37a0e7b508a311/twitterscraper-1.4.0.tar.gz\n",
      "Collecting coala-utils~=0.5.0\n",
      "  Downloading https://files.pythonhosted.org/packages/54/00/74ec750cfc4e830f9d1cfdd4d559f3d2d4ba1b834b78d5266446db3fd1d6/coala_utils-0.5.1-py3-none-any.whl\n",
      "Collecting bs4\n",
      "  Downloading https://files.pythonhosted.org/packages/10/ed/7e8b97591f6f456174139ec089c769f89a94a1a4025fe967691de971f314/bs4-0.0.1.tar.gz\n",
      "Requirement already satisfied: lxml in /opt/anaconda3/lib/python3.7/site-packages (from twitterscraper) (4.4.2)\n",
      "Requirement already satisfied: requests in /opt/anaconda3/lib/python3.7/site-packages (from twitterscraper) (2.22.0)\n",
      "Collecting billiard\n",
      "\u001b[?25l  Downloading https://files.pythonhosted.org/packages/89/79/a3bee8e277794f27c1cdad3a69b851d62664c419b56238435fc55b439b18/billiard-3.6.2.0-py3-none-any.whl (89kB)\n",
      "\u001b[K     |████████████████████████████████| 92kB 6.6MB/s eta 0:00:011\n",
      "\u001b[?25hRequirement already satisfied: beautifulsoup4 in /opt/anaconda3/lib/python3.7/site-packages (from bs4->twitterscraper) (4.8.2)\n",
      "Requirement already satisfied: certifi>=2017.4.17 in /opt/anaconda3/lib/python3.7/site-packages (from requests->twitterscraper) (2019.11.28)\n",
      "Requirement already satisfied: idna<2.9,>=2.5 in /opt/anaconda3/lib/python3.7/site-packages (from requests->twitterscraper) (2.8)\n",
      "Requirement already satisfied: urllib3!=1.25.0,!=1.25.1,<1.26,>=1.21.1 in /opt/anaconda3/lib/python3.7/site-packages (from requests->twitterscraper) (1.25.7)\n",
      "Requirement already satisfied: chardet<3.1.0,>=3.0.2 in /opt/anaconda3/lib/python3.7/site-packages (from requests->twitterscraper) (3.0.4)\n",
      "Requirement already satisfied: soupsieve>=1.2 in /opt/anaconda3/lib/python3.7/site-packages (from beautifulsoup4->bs4->twitterscraper) (1.9.5)\n",
      "Building wheels for collected packages: twitterscraper, bs4\n",
      "  Building wheel for twitterscraper (setup.py) ... \u001b[?25ldone\n",
      "\u001b[?25h  Created wheel for twitterscraper: filename=twitterscraper-1.4.0-cp37-none-any.whl size=11347 sha256=577c7df6be714f3fac00b0c3f18c5925c1f85ffb1b2e6fb23de3edb84be9772d\n",
      "  Stored in directory: /Users/nj/Library/Caches/pip/wheels/c2/9c/8b/7393e7bdc8abe6ce0d46c2ffae2035a1a2080a97ff0ddbdde6\n",
      "  Building wheel for bs4 (setup.py) ... \u001b[?25ldone\n",
      "\u001b[?25h  Created wheel for bs4: filename=bs4-0.0.1-cp37-none-any.whl size=1273 sha256=e8ad850b3c2cf7f561b9f7541023199983f611d646a81ceb09ed7a08f2d0b07d\n",
      "  Stored in directory: /Users/nj/Library/Caches/pip/wheels/a0/b0/b2/4f80b9456b87abedbc0bf2d52235414c3467d8889be38dd472\n",
      "Successfully built twitterscraper bs4\n",
      "Installing collected packages: coala-utils, bs4, billiard, twitterscraper\n",
      "Successfully installed billiard-3.6.2.0 bs4-0.0.1 coala-utils-0.5.1 twitterscraper-1.4.0\n",
      "Note: you may need to restart the kernel to use updated packages.\n"
     ]
    }
   ],
   "source": [
    "pip install twitterscraper"
   ]
  },
  {
   "cell_type": "code",
   "execution_count": 6,
   "metadata": {},
   "outputs": [],
   "source": [
    "from twitterscraper import query_tweets as qt\n",
    "import datetime as dt"
   ]
  },
  {
   "cell_type": "code",
   "execution_count": 14,
   "metadata": {},
   "outputs": [],
   "source": [
    "today = dt.date.today()\n",
    "limit = 10\n",
    "lang = 'english'\n",
    "user = 'marswxreport'"
   ]
  },
  {
   "cell_type": "code",
   "execution_count": 17,
   "metadata": {},
   "outputs": [
    {
     "name": "stderr",
     "output_type": "stream",
     "text": [
      "INFO: queries: ['mars weather since:2006-03-21 until:2006-11-30', 'mars weather since:2006-11-30 until:2007-08-12', 'mars weather since:2007-08-12 until:2008-04-22', 'mars weather since:2008-04-22 until:2009-01-02', 'mars weather since:2009-01-02 until:2009-09-13', 'mars weather since:2009-09-13 until:2010-05-26', 'mars weather since:2010-05-26 until:2011-02-04', 'mars weather since:2011-02-04 until:2011-10-17', 'mars weather since:2011-10-17 until:2012-06-27', 'mars weather since:2012-06-27 until:2013-03-09', 'mars weather since:2013-03-09 until:2013-11-18', 'mars weather since:2013-11-18 until:2014-07-31', 'mars weather since:2014-07-31 until:2015-04-11', 'mars weather since:2015-04-11 until:2015-12-22', 'mars weather since:2015-12-22 until:2016-09-01', 'mars weather since:2016-09-01 until:2017-05-14', 'mars weather since:2017-05-14 until:2018-01-23', 'mars weather since:2018-01-23 until:2018-10-05', 'mars weather since:2018-10-05 until:2019-06-16', 'mars weather since:2019-06-16 until:2020-02-26']\n",
      "INFO: Querying mars weather since:2009-01-02 until:2009-09-13\n",
      "INFO: Querying mars weather since:2008-04-22 until:2009-01-02\n",
      "INFO: Querying mars weather since:2009-09-13 until:2010-05-26\n",
      "INFO: Querying mars weather since:2010-05-26 until:2011-02-04\n",
      "INFO: Querying mars weather since:2011-10-17 until:2012-06-27\n",
      "INFO: Querying mars weather since:2012-06-27 until:2013-03-09\n",
      "INFO: Querying mars weather since:2013-03-09 until:2013-11-18\n",
      "INFO: Querying mars weather since:2015-04-11 until:2015-12-22\n",
      "INFO: Querying mars weather since:2006-03-21 until:2006-11-30\n",
      "INFO: Scraping tweets from https://twitter.com/search?f=tweets&vertical=default&q=mars%20weather%20since%3A2010-05-26%20until%3A2011-02-04&l=english\n",
      "INFO: Querying mars weather since:2006-11-30 until:2007-08-12\n",
      "INFO: Querying mars weather since:2011-02-04 until:2011-10-17\n",
      "INFO: Querying mars weather since:2007-08-12 until:2008-04-22\n",
      "INFO: Scraping tweets from https://twitter.com/search?f=tweets&vertical=default&q=mars%20weather%20since%3A2009-09-13%20until%3A2010-05-26&l=english\n",
      "INFO: Querying mars weather since:2016-09-01 until:2017-05-14\n",
      "INFO: Scraping tweets from https://twitter.com/search?f=tweets&vertical=default&q=mars%20weather%20since%3A2008-04-22%20until%3A2009-01-02&l=english\n",
      "INFO: Querying mars weather since:2013-11-18 until:2014-07-31\n",
      "INFO: Scraping tweets from https://twitter.com/search?f=tweets&vertical=default&q=mars%20weather%20since%3A2006-03-21%20until%3A2006-11-30&l=english\n",
      "INFO: Querying mars weather since:2018-10-05 until:2019-06-16\n",
      "INFO: Scraping tweets from https://twitter.com/search?f=tweets&vertical=default&q=mars%20weather%20since%3A2009-01-02%20until%3A2009-09-13&l=english\n",
      "INFO: Querying mars weather since:2015-12-22 until:2016-09-01\n",
      "INFO: Querying mars weather since:2017-05-14 until:2018-01-23\n",
      "INFO: Querying mars weather since:2014-07-31 until:2015-04-11\n",
      "INFO: Querying mars weather since:2019-06-16 until:2020-02-26\n",
      "INFO: Scraping tweets from https://twitter.com/search?f=tweets&vertical=default&q=mars%20weather%20since%3A2011-10-17%20until%3A2012-06-27&l=english\n",
      "INFO: Scraping tweets from https://twitter.com/search?f=tweets&vertical=default&q=mars%20weather%20since%3A2011-02-04%20until%3A2011-10-17&l=english\n",
      "INFO: Scraping tweets from https://twitter.com/search?f=tweets&vertical=default&q=mars%20weather%20since%3A2012-06-27%20until%3A2013-03-09&l=english\n",
      "INFO: Scraping tweets from https://twitter.com/search?f=tweets&vertical=default&q=mars%20weather%20since%3A2006-11-30%20until%3A2007-08-12&l=english\n",
      "INFO: Querying mars weather since:2018-01-23 until:2018-10-05\n",
      "INFO: Scraping tweets from https://twitter.com/search?f=tweets&vertical=default&q=mars%20weather%20since%3A2007-08-12%20until%3A2008-04-22&l=english\n",
      "INFO: Scraping tweets from https://twitter.com/search?f=tweets&vertical=default&q=mars%20weather%20since%3A2013-03-09%20until%3A2013-11-18&l=english\n",
      "INFO: Using proxy 88.247.10.31:8080\n",
      "INFO: Using proxy 88.247.10.31:8080\n",
      "INFO: Using proxy 88.247.10.31:8080\n",
      "INFO: Scraping tweets from https://twitter.com/search?f=tweets&vertical=default&q=mars%20weather%20since%3A2015-12-22%20until%3A2016-09-01&l=english\n",
      "INFO: Scraping tweets from https://twitter.com/search?f=tweets&vertical=default&q=mars%20weather%20since%3A2015-04-11%20until%3A2015-12-22&l=english\n",
      "INFO: Scraping tweets from https://twitter.com/search?f=tweets&vertical=default&q=mars%20weather%20since%3A2014-07-31%20until%3A2015-04-11&l=english\n",
      "INFO: Scraping tweets from https://twitter.com/search?f=tweets&vertical=default&q=mars%20weather%20since%3A2016-09-01%20until%3A2017-05-14&l=english\n",
      "INFO: Scraping tweets from https://twitter.com/search?f=tweets&vertical=default&q=mars%20weather%20since%3A2013-11-18%20until%3A2014-07-31&l=english\n",
      "INFO: Using proxy 88.247.10.31:8080\n",
      "INFO: Scraping tweets from https://twitter.com/search?f=tweets&vertical=default&q=mars%20weather%20since%3A2017-05-14%20until%3A2018-01-23&l=english\n",
      "INFO: Scraping tweets from https://twitter.com/search?f=tweets&vertical=default&q=mars%20weather%20since%3A2018-10-05%20until%3A2019-06-16&l=english\n",
      "INFO: Scraping tweets from https://twitter.com/search?f=tweets&vertical=default&q=mars%20weather%20since%3A2018-01-23%20until%3A2018-10-05&l=english\n",
      "INFO: Using proxy 88.247.10.31:8080\n",
      "INFO: Using proxy 88.247.10.31:8080\n",
      "INFO: Scraping tweets from https://twitter.com/search?f=tweets&vertical=default&q=mars%20weather%20since%3A2019-06-16%20until%3A2020-02-26&l=english\n",
      "INFO: Using proxy 88.247.10.31:8080\n",
      "INFO: Using proxy 88.247.10.31:8080\n",
      "INFO: Using proxy 88.247.10.31:8080\n",
      "INFO: Using proxy 88.247.10.31:8080\n",
      "INFO: Using proxy 88.247.10.31:8080\n",
      "INFO: Using proxy 88.247.10.31:8080\n",
      "INFO: Using proxy 88.247.10.31:8080\n",
      "INFO: Using proxy 88.247.10.31:8080\n",
      "INFO: Using proxy 88.247.10.31:8080\n",
      "INFO: Using proxy 88.247.10.31:8080\n",
      "INFO: Using proxy 88.247.10.31:8080\n",
      "INFO: Using proxy 88.247.10.31:8080\n",
      "INFO: Using proxy 88.247.10.31:8080\n",
      "INFO: Using proxy 88.247.10.31:8080\n",
      "INFO: Retrying... (Attempts left: 50)\n",
      "INFO: Scraping tweets from https://twitter.com/search?f=tweets&vertical=default&q=mars%20weather%20since%3A2006-03-21%20until%3A2006-11-30&l=english\n",
      "INFO: Using proxy 200.35.56.161:35945\n",
      "INFO: Got 5 tweets for mars%20weather%20since%3A2006-11-30%20until%3A2007-08-12.\n",
      "INFO: Got 5 tweets (5 new).\n",
      "INFO: Retrying... (Attempts left: 49)\n",
      "INFO: Scraping tweets from https://twitter.com/search?f=tweets&vertical=default&q=mars%20weather%20since%3A2006-03-21%20until%3A2006-11-30&l=english\n",
      "INFO: Using proxy 87.249.204.118:3128\n",
      "INFO: Got 12 tweets for mars%20weather%20since%3A2007-08-12%20until%3A2008-04-22.\n",
      "INFO: Got 17 tweets (12 new).\n",
      "INFO: Retrying... (Attempts left: 48)\n",
      "INFO: Scraping tweets from https://twitter.com/search?f=tweets&vertical=default&q=mars%20weather%20since%3A2006-03-21%20until%3A2006-11-30&l=english\n",
      "INFO: Using proxy 93.157.163.66:35081\n",
      "INFO: Got 16 tweets for mars%20weather%20since%3A2019-06-16%20until%3A2020-02-26.\n",
      "INFO: Got 33 tweets (16 new).\n",
      "INFO: Got 20 tweets for mars%20weather%20since%3A2011-02-04%20until%3A2011-10-17.\n",
      "INFO: Got 53 tweets (20 new).\n",
      "INFO: Got 20 tweets for mars%20weather%20since%3A2011-10-17%20until%3A2012-06-27.\n",
      "INFO: Got 20 tweets for mars%20weather%20since%3A2008-04-22%20until%3A2009-01-02.\n",
      "INFO: Got 73 tweets (20 new).\n",
      "INFO: Got 93 tweets (20 new).\n",
      "INFO: Got 20 tweets for mars%20weather%20since%3A2010-05-26%20until%3A2011-02-04.\n",
      "INFO: Got 113 tweets (20 new).\n",
      "INFO: Got 19 tweets for mars%20weather%20since%3A2014-07-31%20until%3A2015-04-11.\n",
      "INFO: Got 19 tweets for mars%20weather%20since%3A2009-01-02%20until%3A2009-09-13.\n",
      "INFO: Got 20 tweets for mars%20weather%20since%3A2017-05-14%20until%3A2018-01-23.\n",
      "INFO: Got 132 tweets (19 new).\n",
      "INFO: Got 151 tweets (19 new).\n",
      "INFO: Got 171 tweets (20 new).\n",
      "INFO: Got 19 tweets for mars%20weather%20since%3A2012-06-27%20until%3A2013-03-09.\n",
      "INFO: Got 190 tweets (19 new).\n",
      "INFO: Got 19 tweets for mars%20weather%20since%3A2018-10-05%20until%3A2019-06-16.\n",
      "INFO: Got 18 tweets for mars%20weather%20since%3A2009-09-13%20until%3A2010-05-26.\n",
      "INFO: Got 20 tweets for mars%20weather%20since%3A2013-03-09%20until%3A2013-11-18.\n",
      "INFO: Got 208 tweets (18 new).\n",
      "INFO: Got 227 tweets (19 new).\n",
      "INFO: Got 247 tweets (20 new).\n",
      "INFO: Got 20 tweets for mars%20weather%20since%3A2015-04-11%20until%3A2015-12-22.\n",
      "INFO: Got 20 tweets for mars%20weather%20since%3A2013-11-18%20until%3A2014-07-31.\n",
      "INFO: Got 267 tweets (20 new).\n",
      "INFO: Got 287 tweets (20 new).\n",
      "INFO: Got 19 tweets for mars%20weather%20since%3A2018-01-23%20until%3A2018-10-05.\n",
      "INFO: Got 306 tweets (19 new).\n",
      "INFO: Got 20 tweets for mars%20weather%20since%3A2015-12-22%20until%3A2016-09-01.\n",
      "INFO: Got 326 tweets (20 new).\n",
      "INFO: Got 20 tweets for mars%20weather%20since%3A2016-09-01%20until%3A2017-05-14.\n",
      "INFO: Got 346 tweets (20 new).\n",
      "INFO: Retrying... (Attempts left: 47)\n",
      "INFO: Scraping tweets from https://twitter.com/search?f=tweets&vertical=default&q=mars%20weather%20since%3A2006-03-21%20until%3A2006-11-30&l=english\n",
      "INFO: Using proxy 31.28.204.211:59152\n",
      "INFO: Retrying... (Attempts left: 46)\n",
      "INFO: Scraping tweets from https://twitter.com/search?f=tweets&vertical=default&q=mars%20weather%20since%3A2006-03-21%20until%3A2006-11-30&l=english\n",
      "INFO: Using proxy 200.54.194.13:53281\n",
      "INFO: Retrying... (Attempts left: 45)\n",
      "INFO: Scraping tweets from https://twitter.com/search?f=tweets&vertical=default&q=mars%20weather%20since%3A2006-03-21%20until%3A2006-11-30&l=english\n",
      "INFO: Using proxy 109.86.121.118:46333\n",
      "INFO: Retrying... (Attempts left: 44)\n",
      "INFO: Scraping tweets from https://twitter.com/search?f=tweets&vertical=default&q=mars%20weather%20since%3A2006-03-21%20until%3A2006-11-30&l=english\n",
      "INFO: Using proxy 3.81.62.3:3128\n",
      "INFO: Retrying... (Attempts left: 43)\n",
      "INFO: Scraping tweets from https://twitter.com/search?f=tweets&vertical=default&q=mars%20weather%20since%3A2006-03-21%20until%3A2006-11-30&l=english\n",
      "INFO: Using proxy 150.129.56.138:31111\n",
      "INFO: Retrying... (Attempts left: 42)\n",
      "INFO: Scraping tweets from https://twitter.com/search?f=tweets&vertical=default&q=mars%20weather%20since%3A2006-03-21%20until%3A2006-11-30&l=english\n",
      "INFO: Using proxy 62.176.1.194:32076\n",
      "INFO: Retrying... (Attempts left: 41)\n",
      "INFO: Scraping tweets from https://twitter.com/search?f=tweets&vertical=default&q=mars%20weather%20since%3A2006-03-21%20until%3A2006-11-30&l=english\n",
      "INFO: Using proxy 138.197.152.52:8118\n",
      "INFO: Retrying... (Attempts left: 40)\n",
      "INFO: Scraping tweets from https://twitter.com/search?f=tweets&vertical=default&q=mars%20weather%20since%3A2006-03-21%20until%3A2006-11-30&l=english\n",
      "INFO: Using proxy 172.80.253.50:3128\n",
      "INFO: Retrying... (Attempts left: 39)\n",
      "INFO: Scraping tweets from https://twitter.com/search?f=tweets&vertical=default&q=mars%20weather%20since%3A2006-03-21%20until%3A2006-11-30&l=english\n",
      "INFO: Using proxy 46.45.129.16:80\n",
      "INFO: Retrying... (Attempts left: 38)\n",
      "INFO: Scraping tweets from https://twitter.com/search?f=tweets&vertical=default&q=mars%20weather%20since%3A2006-03-21%20until%3A2006-11-30&l=english\n",
      "INFO: Using proxy 118.69.50.154:80\n",
      "INFO: Retrying... (Attempts left: 37)\n",
      "INFO: Scraping tweets from https://twitter.com/search?f=tweets&vertical=default&q=mars%20weather%20since%3A2006-03-21%20until%3A2006-11-30&l=english\n",
      "INFO: Using proxy 82.200.233.4:3128\n",
      "INFO: Retrying... (Attempts left: 36)\n",
      "INFO: Scraping tweets from https://twitter.com/search?f=tweets&vertical=default&q=mars%20weather%20since%3A2006-03-21%20until%3A2006-11-30&l=english\n",
      "INFO: Using proxy 200.73.128.159:8080\n",
      "INFO: Retrying... (Attempts left: 35)\n",
      "INFO: Scraping tweets from https://twitter.com/search?f=tweets&vertical=default&q=mars%20weather%20since%3A2006-03-21%20until%3A2006-11-30&l=english\n",
      "INFO: Using proxy 159.8.114.37:8123\n",
      "INFO: Retrying... (Attempts left: 34)\n",
      "INFO: Scraping tweets from https://twitter.com/search?f=tweets&vertical=default&q=mars%20weather%20since%3A2006-03-21%20until%3A2006-11-30&l=english\n",
      "INFO: Using proxy 144.76.134.113:80\n",
      "INFO: Retrying... (Attempts left: 33)\n",
      "INFO: Scraping tweets from https://twitter.com/search?f=tweets&vertical=default&q=mars%20weather%20since%3A2006-03-21%20until%3A2006-11-30&l=english\n",
      "INFO: Using proxy 176.109.235.72:3128\n",
      "INFO: Retrying... (Attempts left: 32)\n",
      "INFO: Scraping tweets from https://twitter.com/search?f=tweets&vertical=default&q=mars%20weather%20since%3A2006-03-21%20until%3A2006-11-30&l=english\n",
      "INFO: Using proxy 159.8.114.34:8123\n",
      "INFO: Retrying... (Attempts left: 31)\n",
      "INFO: Scraping tweets from https://twitter.com/search?f=tweets&vertical=default&q=mars%20weather%20since%3A2006-03-21%20until%3A2006-11-30&l=english\n",
      "INFO: Using proxy 113.53.230.167:80\n",
      "INFO: Retrying... (Attempts left: 30)\n",
      "INFO: Scraping tweets from https://twitter.com/search?f=tweets&vertical=default&q=mars%20weather%20since%3A2006-03-21%20until%3A2006-11-30&l=english\n",
      "INFO: Using proxy 77.94.112.234:32222\n",
      "INFO: Retrying... (Attempts left: 29)\n",
      "INFO: Scraping tweets from https://twitter.com/search?f=tweets&vertical=default&q=mars%20weather%20since%3A2006-03-21%20until%3A2006-11-30&l=english\n",
      "INFO: Using proxy 103.28.121.58:80\n",
      "INFO: Retrying... (Attempts left: 28)\n",
      "INFO: Scraping tweets from https://twitter.com/search?f=tweets&vertical=default&q=mars%20weather%20since%3A2006-03-21%20until%3A2006-11-30&l=english\n",
      "INFO: Using proxy 80.48.119.28:8080\n",
      "INFO: Retrying... (Attempts left: 27)\n",
      "INFO: Scraping tweets from https://twitter.com/search?f=tweets&vertical=default&q=mars%20weather%20since%3A2006-03-21%20until%3A2006-11-30&l=english\n",
      "INFO: Using proxy 200.52.141.162:53281\n",
      "INFO: Retrying... (Attempts left: 26)\n",
      "INFO: Scraping tweets from https://twitter.com/search?f=tweets&vertical=default&q=mars%20weather%20since%3A2006-03-21%20until%3A2006-11-30&l=english\n",
      "INFO: Using proxy 45.71.80.2:49070\n",
      "INFO: Retrying... (Attempts left: 25)\n",
      "INFO: Scraping tweets from https://twitter.com/search?f=tweets&vertical=default&q=mars%20weather%20since%3A2006-03-21%20until%3A2006-11-30&l=english\n",
      "INFO: Using proxy 202.166.196.28:50153\n",
      "INFO: Retrying... (Attempts left: 24)\n",
      "INFO: Scraping tweets from https://twitter.com/search?f=tweets&vertical=default&q=mars%20weather%20since%3A2006-03-21%20until%3A2006-11-30&l=english\n",
      "INFO: Using proxy 186.10.65.4:999\n",
      "INFO: Retrying... (Attempts left: 23)\n",
      "INFO: Scraping tweets from https://twitter.com/search?f=tweets&vertical=default&q=mars%20weather%20since%3A2006-03-21%20until%3A2006-11-30&l=english\n",
      "INFO: Using proxy 85.10.219.99:1080\n",
      "INFO: Retrying... (Attempts left: 22)\n",
      "INFO: Scraping tweets from https://twitter.com/search?f=tweets&vertical=default&q=mars%20weather%20since%3A2006-03-21%20until%3A2006-11-30&l=english\n",
      "INFO: Using proxy 143.0.168.182:8082\n",
      "INFO: Retrying... (Attempts left: 21)\n",
      "INFO: Scraping tweets from https://twitter.com/search?f=tweets&vertical=default&q=mars%20weather%20since%3A2006-03-21%20until%3A2006-11-30&l=english\n",
      "INFO: Using proxy 36.89.99.98:44030\n",
      "INFO: Retrying... (Attempts left: 20)\n",
      "INFO: Scraping tweets from https://twitter.com/search?f=tweets&vertical=default&q=mars%20weather%20since%3A2006-03-21%20until%3A2006-11-30&l=english\n",
      "INFO: Using proxy 103.255.53.98:55969\n",
      "INFO: Retrying... (Attempts left: 19)\n",
      "INFO: Scraping tweets from https://twitter.com/search?f=tweets&vertical=default&q=mars%20weather%20since%3A2006-03-21%20until%3A2006-11-30&l=english\n",
      "INFO: Using proxy 164.77.147.93:53281\n",
      "INFO: Retrying... (Attempts left: 18)\n",
      "INFO: Scraping tweets from https://twitter.com/search?f=tweets&vertical=default&q=mars%20weather%20since%3A2006-03-21%20until%3A2006-11-30&l=english\n",
      "INFO: Using proxy 54.38.110.35:47640\n",
      "INFO: Retrying... (Attempts left: 17)\n",
      "INFO: Scraping tweets from https://twitter.com/search?f=tweets&vertical=default&q=mars%20weather%20since%3A2006-03-21%20until%3A2006-11-30&l=english\n",
      "INFO: Using proxy 185.220.101.11:3128\n",
      "INFO: Retrying... (Attempts left: 16)\n",
      "INFO: Scraping tweets from https://twitter.com/search?f=tweets&vertical=default&q=mars%20weather%20since%3A2006-03-21%20until%3A2006-11-30&l=english\n",
      "INFO: Using proxy 163.172.109.132:65420\n",
      "INFO: Retrying... (Attempts left: 15)\n",
      "INFO: Scraping tweets from https://twitter.com/search?f=tweets&vertical=default&q=mars%20weather%20since%3A2006-03-21%20until%3A2006-11-30&l=english\n",
      "INFO: Using proxy 36.89.165.89:43139\n",
      "INFO: Retrying... (Attempts left: 14)\n",
      "INFO: Scraping tweets from https://twitter.com/search?f=tweets&vertical=default&q=mars%20weather%20since%3A2006-03-21%20until%3A2006-11-30&l=english\n",
      "INFO: Using proxy 46.180.156.230:35808\n",
      "INFO: Retrying... (Attempts left: 13)\n",
      "INFO: Scraping tweets from https://twitter.com/search?f=tweets&vertical=default&q=mars%20weather%20since%3A2006-03-21%20until%3A2006-11-30&l=english\n",
      "INFO: Using proxy 176.56.107.198:40953\n",
      "INFO: Retrying... (Attempts left: 12)\n",
      "INFO: Scraping tweets from https://twitter.com/search?f=tweets&vertical=default&q=mars%20weather%20since%3A2006-03-21%20until%3A2006-11-30&l=english\n",
      "INFO: Using proxy 80.32.122.118:46738\n",
      "INFO: Retrying... (Attempts left: 11)\n",
      "INFO: Scraping tweets from https://twitter.com/search?f=tweets&vertical=default&q=mars%20weather%20since%3A2006-03-21%20until%3A2006-11-30&l=english\n",
      "INFO: Using proxy 178.213.0.207:35140\n",
      "INFO: Retrying... (Attempts left: 10)\n",
      "INFO: Scraping tweets from https://twitter.com/search?f=tweets&vertical=default&q=mars%20weather%20since%3A2006-03-21%20until%3A2006-11-30&l=english\n",
      "INFO: Using proxy 190.107.20.206:34626\n",
      "INFO: Retrying... (Attempts left: 9)\n",
      "INFO: Scraping tweets from https://twitter.com/search?f=tweets&vertical=default&q=mars%20weather%20since%3A2006-03-21%20until%3A2006-11-30&l=english\n",
      "INFO: Using proxy 186.15.233.218:45999\n",
      "INFO: Retrying... (Attempts left: 8)\n",
      "INFO: Scraping tweets from https://twitter.com/search?f=tweets&vertical=default&q=mars%20weather%20since%3A2006-03-21%20until%3A2006-11-30&l=english\n",
      "INFO: Using proxy 91.205.131.110:48245\n",
      "INFO: Retrying... (Attempts left: 7)\n",
      "INFO: Scraping tweets from https://twitter.com/search?f=tweets&vertical=default&q=mars%20weather%20since%3A2006-03-21%20until%3A2006-11-30&l=english\n",
      "INFO: Using proxy 103.15.167.35:41787\n",
      "INFO: Retrying... (Attempts left: 6)\n",
      "INFO: Scraping tweets from https://twitter.com/search?f=tweets&vertical=default&q=mars%20weather%20since%3A2006-03-21%20until%3A2006-11-30&l=english\n",
      "INFO: Using proxy 203.170.76.6:58576\n",
      "INFO: Retrying... (Attempts left: 5)\n",
      "INFO: Scraping tweets from https://twitter.com/search?f=tweets&vertical=default&q=mars%20weather%20since%3A2006-03-21%20until%3A2006-11-30&l=english\n",
      "INFO: Using proxy 91.150.189.122:55869\n",
      "INFO: Retrying... (Attempts left: 4)\n",
      "INFO: Scraping tweets from https://twitter.com/search?f=tweets&vertical=default&q=mars%20weather%20since%3A2006-03-21%20until%3A2006-11-30&l=english\n",
      "INFO: Using proxy 41.60.235.140:30328\n",
      "INFO: Retrying... (Attempts left: 3)\n",
      "INFO: Scraping tweets from https://twitter.com/search?f=tweets&vertical=default&q=mars%20weather%20since%3A2006-03-21%20until%3A2006-11-30&l=english\n",
      "INFO: Using proxy 91.192.2.168:53281\n",
      "INFO: Retrying... (Attempts left: 2)\n",
      "INFO: Scraping tweets from https://twitter.com/search?f=tweets&vertical=default&q=mars%20weather%20since%3A2006-03-21%20until%3A2006-11-30&l=english\n",
      "INFO: Using proxy 45.71.108.18:46114\n",
      "INFO: Retrying... (Attempts left: 1)\n",
      "INFO: Scraping tweets from https://twitter.com/search?f=tweets&vertical=default&q=mars%20weather%20since%3A2006-03-21%20until%3A2006-11-30&l=english\n",
      "INFO: Using proxy 96.9.86.70:41916\n",
      "INFO: Got 0 tweets for mars%20weather%20since%3A2006-03-21%20until%3A2006-11-30.\n",
      "INFO: Got 346 tweets (0 new).\n"
     ]
    },
    {
     "ename": "KeyboardInterrupt",
     "evalue": "",
     "output_type": "error",
     "traceback": [
      "\u001b[0;31m---------------------------------------------------------------------------\u001b[0m",
      "\u001b[0;31mKeyboardInterrupt\u001b[0m                         Traceback (most recent call last)",
      "\u001b[0;32m<ipython-input-17-d1c9e1efd31e>\u001b[0m in \u001b[0;36m<module>\u001b[0;34m\u001b[0m\n\u001b[0;32m----> 1\u001b[0;31m \u001b[0mtweets\u001b[0m \u001b[0;34m=\u001b[0m \u001b[0mqt\u001b[0m\u001b[0;34m(\u001b[0m\u001b[0;34m\"mars weather\"\u001b[0m\u001b[0;34m,\u001b[0m \u001b[0mlimit\u001b[0m\u001b[0;34m=\u001b[0m \u001b[0mlimit\u001b[0m\u001b[0;34m,\u001b[0m \u001b[0mlang\u001b[0m \u001b[0;34m=\u001b[0m \u001b[0mlang\u001b[0m\u001b[0;34m)\u001b[0m\u001b[0;34m\u001b[0m\u001b[0;34m\u001b[0m\u001b[0m\n\u001b[0m",
      "\u001b[0;32m/opt/anaconda3/lib/python3.7/site-packages/twitterscraper/query.py\u001b[0m in \u001b[0;36mquery_tweets\u001b[0;34m(query, limit, begindate, enddate, poolsize, lang)\u001b[0m\n\u001b[1;32m    243\u001b[0m     \u001b[0;32mfinally\u001b[0m\u001b[0;34m:\u001b[0m\u001b[0;34m\u001b[0m\u001b[0;34m\u001b[0m\u001b[0m\n\u001b[1;32m    244\u001b[0m         \u001b[0mpool\u001b[0m\u001b[0;34m.\u001b[0m\u001b[0mclose\u001b[0m\u001b[0;34m(\u001b[0m\u001b[0;34m)\u001b[0m\u001b[0;34m\u001b[0m\u001b[0;34m\u001b[0m\u001b[0m\n\u001b[0;32m--> 245\u001b[0;31m         \u001b[0mpool\u001b[0m\u001b[0;34m.\u001b[0m\u001b[0mjoin\u001b[0m\u001b[0;34m(\u001b[0m\u001b[0;34m)\u001b[0m\u001b[0;34m\u001b[0m\u001b[0;34m\u001b[0m\u001b[0m\n\u001b[0m\u001b[1;32m    246\u001b[0m \u001b[0;34m\u001b[0m\u001b[0m\n\u001b[1;32m    247\u001b[0m     \u001b[0;32mreturn\u001b[0m \u001b[0mall_tweets\u001b[0m\u001b[0;34m\u001b[0m\u001b[0;34m\u001b[0m\u001b[0m\n",
      "\u001b[0;32m/opt/anaconda3/lib/python3.7/site-packages/billiard/pool.py\u001b[0m in \u001b[0;36mjoin\u001b[0;34m(self)\u001b[0m\n\u001b[1;32m   1625\u001b[0m             \u001b[0mdebug\u001b[0m\u001b[0;34m(\u001b[0m\u001b[0;34m'joining worker %s/%s (%r)'\u001b[0m\u001b[0;34m,\u001b[0m \u001b[0mi\u001b[0m \u001b[0;34m+\u001b[0m \u001b[0;36m1\u001b[0m\u001b[0;34m,\u001b[0m \u001b[0mlen\u001b[0m\u001b[0;34m(\u001b[0m\u001b[0mself\u001b[0m\u001b[0;34m.\u001b[0m\u001b[0m_pool\u001b[0m\u001b[0;34m)\u001b[0m\u001b[0;34m,\u001b[0m \u001b[0mp\u001b[0m\u001b[0;34m)\u001b[0m\u001b[0;34m\u001b[0m\u001b[0;34m\u001b[0m\u001b[0m\n\u001b[1;32m   1626\u001b[0m             \u001b[0;32mif\u001b[0m \u001b[0mp\u001b[0m\u001b[0;34m.\u001b[0m\u001b[0m_popen\u001b[0m \u001b[0;32mis\u001b[0m \u001b[0;32mnot\u001b[0m \u001b[0;32mNone\u001b[0m\u001b[0;34m:\u001b[0m  \u001b[0;31m# process started?\u001b[0m\u001b[0;34m\u001b[0m\u001b[0;34m\u001b[0m\u001b[0m\n\u001b[0;32m-> 1627\u001b[0;31m                 \u001b[0mp\u001b[0m\u001b[0;34m.\u001b[0m\u001b[0mjoin\u001b[0m\u001b[0;34m(\u001b[0m\u001b[0;34m)\u001b[0m\u001b[0;34m\u001b[0m\u001b[0;34m\u001b[0m\u001b[0m\n\u001b[0m\u001b[1;32m   1628\u001b[0m         \u001b[0mdebug\u001b[0m\u001b[0;34m(\u001b[0m\u001b[0;34m'pool join complete'\u001b[0m\u001b[0;34m)\u001b[0m\u001b[0;34m\u001b[0m\u001b[0;34m\u001b[0m\u001b[0m\n\u001b[1;32m   1629\u001b[0m \u001b[0;34m\u001b[0m\u001b[0m\n",
      "\u001b[0;32m/opt/anaconda3/lib/python3.7/site-packages/billiard/process.py\u001b[0m in \u001b[0;36mjoin\u001b[0;34m(self, timeout)\u001b[0m\n\u001b[1;32m    146\u001b[0m         \u001b[0;32massert\u001b[0m \u001b[0mself\u001b[0m\u001b[0;34m.\u001b[0m\u001b[0m_parent_pid\u001b[0m \u001b[0;34m==\u001b[0m \u001b[0mos\u001b[0m\u001b[0;34m.\u001b[0m\u001b[0mgetpid\u001b[0m\u001b[0;34m(\u001b[0m\u001b[0;34m)\u001b[0m\u001b[0;34m,\u001b[0m \u001b[0;34m'can only join a child process'\u001b[0m\u001b[0;34m\u001b[0m\u001b[0;34m\u001b[0m\u001b[0m\n\u001b[1;32m    147\u001b[0m         \u001b[0;32massert\u001b[0m \u001b[0mself\u001b[0m\u001b[0;34m.\u001b[0m\u001b[0m_popen\u001b[0m \u001b[0;32mis\u001b[0m \u001b[0;32mnot\u001b[0m \u001b[0;32mNone\u001b[0m\u001b[0;34m,\u001b[0m \u001b[0;34m'can only join a started process'\u001b[0m\u001b[0;34m\u001b[0m\u001b[0;34m\u001b[0m\u001b[0m\n\u001b[0;32m--> 148\u001b[0;31m         \u001b[0mres\u001b[0m \u001b[0;34m=\u001b[0m \u001b[0mself\u001b[0m\u001b[0;34m.\u001b[0m\u001b[0m_popen\u001b[0m\u001b[0;34m.\u001b[0m\u001b[0mwait\u001b[0m\u001b[0;34m(\u001b[0m\u001b[0mtimeout\u001b[0m\u001b[0;34m)\u001b[0m\u001b[0;34m\u001b[0m\u001b[0;34m\u001b[0m\u001b[0m\n\u001b[0m\u001b[1;32m    149\u001b[0m         \u001b[0;32mif\u001b[0m \u001b[0mres\u001b[0m \u001b[0;32mis\u001b[0m \u001b[0;32mnot\u001b[0m \u001b[0;32mNone\u001b[0m\u001b[0;34m:\u001b[0m\u001b[0;34m\u001b[0m\u001b[0;34m\u001b[0m\u001b[0m\n\u001b[1;32m    150\u001b[0m             \u001b[0m_children\u001b[0m\u001b[0;34m.\u001b[0m\u001b[0mdiscard\u001b[0m\u001b[0;34m(\u001b[0m\u001b[0mself\u001b[0m\u001b[0;34m)\u001b[0m\u001b[0;34m\u001b[0m\u001b[0;34m\u001b[0m\u001b[0m\n",
      "\u001b[0;32m/opt/anaconda3/lib/python3.7/site-packages/billiard/popen_fork.py\u001b[0m in \u001b[0;36mwait\u001b[0;34m(self, timeout)\u001b[0m\n\u001b[1;32m     55\u001b[0m                     \u001b[0;32mreturn\u001b[0m \u001b[0;32mNone\u001b[0m\u001b[0;34m\u001b[0m\u001b[0;34m\u001b[0m\u001b[0m\n\u001b[1;32m     56\u001b[0m             \u001b[0;31m# This shouldn't block if wait() returned successfully.\u001b[0m\u001b[0;34m\u001b[0m\u001b[0;34m\u001b[0m\u001b[0;34m\u001b[0m\u001b[0m\n\u001b[0;32m---> 57\u001b[0;31m             \u001b[0;32mreturn\u001b[0m \u001b[0mself\u001b[0m\u001b[0;34m.\u001b[0m\u001b[0mpoll\u001b[0m\u001b[0;34m(\u001b[0m\u001b[0mos\u001b[0m\u001b[0;34m.\u001b[0m\u001b[0mWNOHANG\u001b[0m \u001b[0;32mif\u001b[0m \u001b[0mtimeout\u001b[0m \u001b[0;34m==\u001b[0m \u001b[0;36m0.0\u001b[0m \u001b[0;32melse\u001b[0m \u001b[0;36m0\u001b[0m\u001b[0;34m)\u001b[0m\u001b[0;34m\u001b[0m\u001b[0;34m\u001b[0m\u001b[0m\n\u001b[0m\u001b[1;32m     58\u001b[0m         \u001b[0;32mreturn\u001b[0m \u001b[0mself\u001b[0m\u001b[0;34m.\u001b[0m\u001b[0mreturncode\u001b[0m\u001b[0;34m\u001b[0m\u001b[0;34m\u001b[0m\u001b[0m\n\u001b[1;32m     59\u001b[0m \u001b[0;34m\u001b[0m\u001b[0m\n",
      "\u001b[0;32m/opt/anaconda3/lib/python3.7/site-packages/billiard/popen_fork.py\u001b[0m in \u001b[0;36mpoll\u001b[0;34m(self, flag)\u001b[0m\n\u001b[1;32m     31\u001b[0m             \u001b[0;32mwhile\u001b[0m \u001b[0;32mTrue\u001b[0m\u001b[0;34m:\u001b[0m\u001b[0;34m\u001b[0m\u001b[0;34m\u001b[0m\u001b[0m\n\u001b[1;32m     32\u001b[0m                 \u001b[0;32mtry\u001b[0m\u001b[0;34m:\u001b[0m\u001b[0;34m\u001b[0m\u001b[0;34m\u001b[0m\u001b[0m\n\u001b[0;32m---> 33\u001b[0;31m                     \u001b[0mpid\u001b[0m\u001b[0;34m,\u001b[0m \u001b[0msts\u001b[0m \u001b[0;34m=\u001b[0m \u001b[0mos\u001b[0m\u001b[0;34m.\u001b[0m\u001b[0mwaitpid\u001b[0m\u001b[0;34m(\u001b[0m\u001b[0mself\u001b[0m\u001b[0;34m.\u001b[0m\u001b[0mpid\u001b[0m\u001b[0;34m,\u001b[0m \u001b[0mflag\u001b[0m\u001b[0;34m)\u001b[0m\u001b[0;34m\u001b[0m\u001b[0;34m\u001b[0m\u001b[0m\n\u001b[0m\u001b[1;32m     34\u001b[0m                 \u001b[0;32mexcept\u001b[0m \u001b[0mOSError\u001b[0m \u001b[0;32mas\u001b[0m \u001b[0me\u001b[0m\u001b[0;34m:\u001b[0m\u001b[0;34m\u001b[0m\u001b[0;34m\u001b[0m\u001b[0m\n\u001b[1;32m     35\u001b[0m                     \u001b[0;32mif\u001b[0m \u001b[0me\u001b[0m\u001b[0;34m.\u001b[0m\u001b[0merrno\u001b[0m \u001b[0;34m==\u001b[0m \u001b[0merrno\u001b[0m\u001b[0;34m.\u001b[0m\u001b[0mEINTR\u001b[0m\u001b[0;34m:\u001b[0m\u001b[0;34m\u001b[0m\u001b[0;34m\u001b[0m\u001b[0m\n",
      "\u001b[0;31mKeyboardInterrupt\u001b[0m: "
     ]
    }
   ],
   "source": [
    "tweets = qt(\"mars weather\", limit= limit, lang = lang, user)"
   ]
  },
  {
   "cell_type": "code",
   "execution_count": null,
   "metadata": {},
   "outputs": [],
   "source": []
  }
 ],
 "metadata": {
  "kernelspec": {
   "display_name": "Python 3",
   "language": "python",
   "name": "python3"
  },
  "language_info": {
   "codemirror_mode": {
    "name": "ipython",
    "version": 3
   },
   "file_extension": ".py",
   "mimetype": "text/x-python",
   "name": "python",
   "nbconvert_exporter": "python",
   "pygments_lexer": "ipython3",
   "version": "3.7.6"
  }
 },
 "nbformat": 4,
 "nbformat_minor": 4
}
